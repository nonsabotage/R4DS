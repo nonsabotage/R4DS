{
 "cells": [
  {
   "cell_type": "markdown",
   "metadata": {},
   "source": [
    "## Tidy Data with tidyr\n",
    "\n",
    "より詳しく知りたい場合には[Tidy Data paer](http://www.jstatsoft.org/v59/paper)を参照して欲しい."
   ]
  },
  {
   "cell_type": "code",
   "execution_count": 1,
   "metadata": {
    "collapsed": false
   },
   "outputs": [
    {
     "name": "stderr",
     "output_type": "stream",
     "text": [
      "Loading tidyverse: ggplot2\n",
      "Loading tidyverse: tibble\n",
      "Loading tidyverse: tidyr\n",
      "Loading tidyverse: readr\n",
      "Loading tidyverse: purrr\n",
      "Loading tidyverse: dplyr\n",
      "Conflicts with tidy packages ---------------------------------------------------\n",
      "filter(): dplyr, stats\n",
      "lag():    dplyr, stats\n"
     ]
    }
   ],
   "source": [
    "library (tidyverse)"
   ]
  },
  {
   "cell_type": "code",
   "execution_count": 4,
   "metadata": {
    "collapsed": false
   },
   "outputs": [
    {
     "data": {
      "text/html": [
       "<table>\n",
       "<thead><tr><th scope=col>country</th><th scope=col>year</th><th scope=col>cases</th><th scope=col>population</th></tr></thead>\n",
       "<tbody>\n",
       "\t<tr><td>Afghanistan</td><td>1999       </td><td>   745     </td><td>  19987071 </td></tr>\n",
       "\t<tr><td>Afghanistan</td><td>2000       </td><td>  2666     </td><td>  20595360 </td></tr>\n",
       "\t<tr><td>Brazil     </td><td>1999       </td><td> 37737     </td><td> 172006362 </td></tr>\n",
       "\t<tr><td>Brazil     </td><td>2000       </td><td> 80488     </td><td> 174504898 </td></tr>\n",
       "\t<tr><td>China      </td><td>1999       </td><td>212258     </td><td>1272915272 </td></tr>\n",
       "\t<tr><td>China      </td><td>2000       </td><td>213766     </td><td>1280428583 </td></tr>\n",
       "</tbody>\n",
       "</table>\n"
      ],
      "text/latex": [
       "\\begin{tabular}{r|llll}\n",
       " country & year & cases & population\\\\\n",
       "\\hline\n",
       "\t Afghanistan & 1999        &    745      &   19987071 \\\\\n",
       "\t Afghanistan & 2000        &   2666      &   20595360 \\\\\n",
       "\t Brazil      & 1999        &  37737      &  172006362 \\\\\n",
       "\t Brazil      & 2000        &  80488      &  174504898 \\\\\n",
       "\t China       & 1999        & 212258      & 1272915272 \\\\\n",
       "\t China       & 2000        & 213766      & 1280428583 \\\\\n",
       "\\end{tabular}\n"
      ],
      "text/markdown": [
       "\n",
       "country | year | cases | population | \n",
       "|---|---|---|---|---|---|\n",
       "| Afghanistan | 1999        |    745      |   19987071  | \n",
       "| Afghanistan | 2000        |   2666      |   20595360  | \n",
       "| Brazil      | 1999        |  37737      |  172006362  | \n",
       "| Brazil      | 2000        |  80488      |  174504898  | \n",
       "| China       | 1999        | 212258      | 1272915272  | \n",
       "| China       | 2000        | 213766      | 1280428583  | \n",
       "\n",
       "\n"
      ],
      "text/plain": [
       "  country     year cases  population\n",
       "1 Afghanistan 1999    745   19987071\n",
       "2 Afghanistan 2000   2666   20595360\n",
       "3 Brazil      1999  37737  172006362\n",
       "4 Brazil      2000  80488  174504898\n",
       "5 China       1999 212258 1272915272\n",
       "6 China       2000 213766 1280428583"
      ]
     },
     "metadata": {},
     "output_type": "display_data"
    },
    {
     "data": {
      "text/html": [
       "<table>\n",
       "<thead><tr><th scope=col>country</th><th scope=col>year</th><th scope=col>type</th><th scope=col>count</th></tr></thead>\n",
       "<tbody>\n",
       "\t<tr><td>Afghanistan</td><td>1999       </td><td>cases      </td><td>       745 </td></tr>\n",
       "\t<tr><td>Afghanistan</td><td>1999       </td><td>population </td><td>  19987071 </td></tr>\n",
       "\t<tr><td>Afghanistan</td><td>2000       </td><td>cases      </td><td>      2666 </td></tr>\n",
       "\t<tr><td>Afghanistan</td><td>2000       </td><td>population </td><td>  20595360 </td></tr>\n",
       "\t<tr><td>Brazil     </td><td>1999       </td><td>cases      </td><td>     37737 </td></tr>\n",
       "\t<tr><td>Brazil     </td><td>1999       </td><td>population </td><td> 172006362 </td></tr>\n",
       "\t<tr><td>Brazil     </td><td>2000       </td><td>cases      </td><td>     80488 </td></tr>\n",
       "\t<tr><td>Brazil     </td><td>2000       </td><td>population </td><td> 174504898 </td></tr>\n",
       "\t<tr><td>China      </td><td>1999       </td><td>cases      </td><td>    212258 </td></tr>\n",
       "\t<tr><td>China      </td><td>1999       </td><td>population </td><td>1272915272 </td></tr>\n",
       "\t<tr><td>China      </td><td>2000       </td><td>cases      </td><td>    213766 </td></tr>\n",
       "\t<tr><td>China      </td><td>2000       </td><td>population </td><td>1280428583 </td></tr>\n",
       "</tbody>\n",
       "</table>\n"
      ],
      "text/latex": [
       "\\begin{tabular}{r|llll}\n",
       " country & year & type & count\\\\\n",
       "\\hline\n",
       "\t Afghanistan & 1999        & cases       &        745 \\\\\n",
       "\t Afghanistan & 1999        & population  &   19987071 \\\\\n",
       "\t Afghanistan & 2000        & cases       &       2666 \\\\\n",
       "\t Afghanistan & 2000        & population  &   20595360 \\\\\n",
       "\t Brazil      & 1999        & cases       &      37737 \\\\\n",
       "\t Brazil      & 1999        & population  &  172006362 \\\\\n",
       "\t Brazil      & 2000        & cases       &      80488 \\\\\n",
       "\t Brazil      & 2000        & population  &  174504898 \\\\\n",
       "\t China       & 1999        & cases       &     212258 \\\\\n",
       "\t China       & 1999        & population  & 1272915272 \\\\\n",
       "\t China       & 2000        & cases       &     213766 \\\\\n",
       "\t China       & 2000        & population  & 1280428583 \\\\\n",
       "\\end{tabular}\n"
      ],
      "text/markdown": [
       "\n",
       "country | year | type | count | \n",
       "|---|---|---|---|---|---|---|---|---|---|---|---|\n",
       "| Afghanistan | 1999        | cases       |        745  | \n",
       "| Afghanistan | 1999        | population  |   19987071  | \n",
       "| Afghanistan | 2000        | cases       |       2666  | \n",
       "| Afghanistan | 2000        | population  |   20595360  | \n",
       "| Brazil      | 1999        | cases       |      37737  | \n",
       "| Brazil      | 1999        | population  |  172006362  | \n",
       "| Brazil      | 2000        | cases       |      80488  | \n",
       "| Brazil      | 2000        | population  |  174504898  | \n",
       "| China       | 1999        | cases       |     212258  | \n",
       "| China       | 1999        | population  | 1272915272  | \n",
       "| China       | 2000        | cases       |     213766  | \n",
       "| China       | 2000        | population  | 1280428583  | \n",
       "\n",
       "\n"
      ],
      "text/plain": [
       "   country     year type       count     \n",
       "1  Afghanistan 1999 cases             745\n",
       "2  Afghanistan 1999 population   19987071\n",
       "3  Afghanistan 2000 cases            2666\n",
       "4  Afghanistan 2000 population   20595360\n",
       "5  Brazil      1999 cases           37737\n",
       "6  Brazil      1999 population  172006362\n",
       "7  Brazil      2000 cases           80488\n",
       "8  Brazil      2000 population  174504898\n",
       "9  China       1999 cases          212258\n",
       "10 China       1999 population 1272915272\n",
       "11 China       2000 cases          213766\n",
       "12 China       2000 population 1280428583"
      ]
     },
     "metadata": {},
     "output_type": "display_data"
    },
    {
     "data": {
      "text/html": [
       "<table>\n",
       "<thead><tr><th scope=col>country</th><th scope=col>year</th><th scope=col>rate</th></tr></thead>\n",
       "<tbody>\n",
       "\t<tr><td>Afghanistan      </td><td>1999             </td><td>745/19987071     </td></tr>\n",
       "\t<tr><td>Afghanistan      </td><td>2000             </td><td>2666/20595360    </td></tr>\n",
       "\t<tr><td>Brazil           </td><td>1999             </td><td>37737/172006362  </td></tr>\n",
       "\t<tr><td>Brazil           </td><td>2000             </td><td>80488/174504898  </td></tr>\n",
       "\t<tr><td>China            </td><td>1999             </td><td>212258/1272915272</td></tr>\n",
       "\t<tr><td>China            </td><td>2000             </td><td>213766/1280428583</td></tr>\n",
       "</tbody>\n",
       "</table>\n"
      ],
      "text/latex": [
       "\\begin{tabular}{r|lll}\n",
       " country & year & rate\\\\\n",
       "\\hline\n",
       "\t Afghanistan       & 1999              & 745/19987071     \\\\\n",
       "\t Afghanistan       & 2000              & 2666/20595360    \\\\\n",
       "\t Brazil            & 1999              & 37737/172006362  \\\\\n",
       "\t Brazil            & 2000              & 80488/174504898  \\\\\n",
       "\t China             & 1999              & 212258/1272915272\\\\\n",
       "\t China             & 2000              & 213766/1280428583\\\\\n",
       "\\end{tabular}\n"
      ],
      "text/markdown": [
       "\n",
       "country | year | rate | \n",
       "|---|---|---|---|---|---|\n",
       "| Afghanistan       | 1999              | 745/19987071      | \n",
       "| Afghanistan       | 2000              | 2666/20595360     | \n",
       "| Brazil            | 1999              | 37737/172006362   | \n",
       "| Brazil            | 2000              | 80488/174504898   | \n",
       "| China             | 1999              | 212258/1272915272 | \n",
       "| China             | 2000              | 213766/1280428583 | \n",
       "\n",
       "\n"
      ],
      "text/plain": [
       "  country     year rate             \n",
       "1 Afghanistan 1999 745/19987071     \n",
       "2 Afghanistan 2000 2666/20595360    \n",
       "3 Brazil      1999 37737/172006362  \n",
       "4 Brazil      2000 80488/174504898  \n",
       "5 China       1999 212258/1272915272\n",
       "6 China       2000 213766/1280428583"
      ]
     },
     "metadata": {},
     "output_type": "display_data"
    },
    {
     "data": {
      "text/html": [
       "<table>\n",
       "<thead><tr><th scope=col>country</th><th scope=col>1999</th><th scope=col>2000</th></tr></thead>\n",
       "<tbody>\n",
       "\t<tr><td>Afghanistan</td><td>   745     </td><td>  2666     </td></tr>\n",
       "\t<tr><td>Brazil     </td><td> 37737     </td><td> 80488     </td></tr>\n",
       "\t<tr><td>China      </td><td>212258     </td><td>213766     </td></tr>\n",
       "</tbody>\n",
       "</table>\n"
      ],
      "text/latex": [
       "\\begin{tabular}{r|lll}\n",
       " country & 1999 & 2000\\\\\n",
       "\\hline\n",
       "\t Afghanistan &    745      &   2666     \\\\\n",
       "\t Brazil      &  37737      &  80488     \\\\\n",
       "\t China       & 212258      & 213766     \\\\\n",
       "\\end{tabular}\n"
      ],
      "text/markdown": [
       "\n",
       "country | 1999 | 2000 | \n",
       "|---|---|---|\n",
       "| Afghanistan |    745      |   2666      | \n",
       "| Brazil      |  37737      |  80488      | \n",
       "| China       | 212258      | 213766      | \n",
       "\n",
       "\n"
      ],
      "text/plain": [
       "  country     1999   2000  \n",
       "1 Afghanistan    745   2666\n",
       "2 Brazil       37737  80488\n",
       "3 China       212258 213766"
      ]
     },
     "metadata": {},
     "output_type": "display_data"
    },
    {
     "data": {
      "text/html": [
       "<table>\n",
       "<thead><tr><th scope=col>country</th><th scope=col>1999</th><th scope=col>2000</th></tr></thead>\n",
       "<tbody>\n",
       "\t<tr><td>Afghanistan</td><td>  19987071 </td><td>  20595360 </td></tr>\n",
       "\t<tr><td>Brazil     </td><td> 172006362 </td><td> 174504898 </td></tr>\n",
       "\t<tr><td>China      </td><td>1272915272 </td><td>1280428583 </td></tr>\n",
       "</tbody>\n",
       "</table>\n"
      ],
      "text/latex": [
       "\\begin{tabular}{r|lll}\n",
       " country & 1999 & 2000\\\\\n",
       "\\hline\n",
       "\t Afghanistan &   19987071  &   20595360 \\\\\n",
       "\t Brazil      &  172006362  &  174504898 \\\\\n",
       "\t China       & 1272915272  & 1280428583 \\\\\n",
       "\\end{tabular}\n"
      ],
      "text/markdown": [
       "\n",
       "country | 1999 | 2000 | \n",
       "|---|---|---|\n",
       "| Afghanistan |   19987071  |   20595360  | \n",
       "| Brazil      |  172006362  |  174504898  | \n",
       "| China       | 1272915272  | 1280428583  | \n",
       "\n",
       "\n"
      ],
      "text/plain": [
       "  country     1999       2000      \n",
       "1 Afghanistan   19987071   20595360\n",
       "2 Brazil       172006362  174504898\n",
       "3 China       1272915272 1280428583"
      ]
     },
     "metadata": {},
     "output_type": "display_data"
    }
   ],
   "source": [
    "# 同じデータでも表現の方法は様々ある\n",
    "table1; table2; table3; table4a; table4b"
   ]
  },
  {
   "cell_type": "markdown",
   "metadata": {},
   "source": [
    "テーブルを表現するルールは次とする.\n",
    "- variable: 列\n",
    "- observations: 行\n",
    "- values: セルの値\n",
    "\n",
    "データセットをつくるときにすることは三つある. \n",
    "- データセットをtibbleにする\n",
    "- variableはカラムにいれる\n"
   ]
  },
  {
   "cell_type": "code",
   "execution_count": 8,
   "metadata": {
    "collapsed": false
   },
   "outputs": [
    {
     "data": {
      "text/html": [
       "<table>\n",
       "<thead><tr><th scope=col>country</th><th scope=col>year</th><th scope=col>cases</th><th scope=col>population</th><th scope=col>rate</th></tr></thead>\n",
       "<tbody>\n",
       "\t<tr><td>Afghanistan</td><td>1999       </td><td>   745     </td><td>  19987071 </td><td>0.372741   </td></tr>\n",
       "\t<tr><td>Afghanistan</td><td>2000       </td><td>  2666     </td><td>  20595360 </td><td>1.294466   </td></tr>\n",
       "\t<tr><td>Brazil     </td><td>1999       </td><td> 37737     </td><td> 172006362 </td><td>2.193930   </td></tr>\n",
       "\t<tr><td>Brazil     </td><td>2000       </td><td> 80488     </td><td> 174504898 </td><td>4.612363   </td></tr>\n",
       "\t<tr><td>China      </td><td>1999       </td><td>212258     </td><td>1272915272 </td><td>1.667495   </td></tr>\n",
       "\t<tr><td>China      </td><td>2000       </td><td>213766     </td><td>1280428583 </td><td>1.669488   </td></tr>\n",
       "</tbody>\n",
       "</table>\n"
      ],
      "text/latex": [
       "\\begin{tabular}{r|lllll}\n",
       " country & year & cases & population & rate\\\\\n",
       "\\hline\n",
       "\t Afghanistan & 1999        &    745      &   19987071  & 0.372741   \\\\\n",
       "\t Afghanistan & 2000        &   2666      &   20595360  & 1.294466   \\\\\n",
       "\t Brazil      & 1999        &  37737      &  172006362  & 2.193930   \\\\\n",
       "\t Brazil      & 2000        &  80488      &  174504898  & 4.612363   \\\\\n",
       "\t China       & 1999        & 212258      & 1272915272  & 1.667495   \\\\\n",
       "\t China       & 2000        & 213766      & 1280428583  & 1.669488   \\\\\n",
       "\\end{tabular}\n"
      ],
      "text/markdown": [
       "\n",
       "country | year | cases | population | rate | \n",
       "|---|---|---|---|---|---|\n",
       "| Afghanistan | 1999        |    745      |   19987071  | 0.372741    | \n",
       "| Afghanistan | 2000        |   2666      |   20595360  | 1.294466    | \n",
       "| Brazil      | 1999        |  37737      |  172006362  | 2.193930    | \n",
       "| Brazil      | 2000        |  80488      |  174504898  | 4.612363    | \n",
       "| China       | 1999        | 212258      | 1272915272  | 1.667495    | \n",
       "| China       | 2000        | 213766      | 1280428583  | 1.669488    | \n",
       "\n",
       "\n"
      ],
      "text/plain": [
       "  country     year cases  population rate    \n",
       "1 Afghanistan 1999    745   19987071 0.372741\n",
       "2 Afghanistan 2000   2666   20595360 1.294466\n",
       "3 Brazil      1999  37737  172006362 2.193930\n",
       "4 Brazil      2000  80488  174504898 4.612363\n",
       "5 China       1999 212258 1272915272 1.667495\n",
       "6 China       2000 213766 1280428583 1.669488"
      ]
     },
     "metadata": {},
     "output_type": "display_data"
    }
   ],
   "source": [
    "table1 %>%\n",
    "    mutate (rate = cases / population * 1e4)"
   ]
  },
  {
   "cell_type": "code",
   "execution_count": 10,
   "metadata": {
    "collapsed": false
   },
   "outputs": [
    {
     "data": {},
     "metadata": {},
     "output_type": "display_data"
    },
    {
     "data": {
      "image/png": "[encoded data removed]",
      "text/plain": [
       "plot without title"
      ]
     },
     "metadata": {},
     "output_type": "display_data"
    }
   ],
   "source": [
    "ggplot(table1, aes(year, cases)) + \n",
    "    geom_line (aes(group= country), color=\"grey50\") + \n",
    "    geom_point (aes(color=country))"
   ]
  },
  {
   "cell_type": "markdown",
   "metadata": {},
   "source": [
    "### Spreading and Gathering"
   ]
  },
  {
   "cell_type": "code",
   "execution_count": 14,
   "metadata": {
    "collapsed": false
   },
   "outputs": [
    {
     "data": {
      "text/html": [
       "<table>\n",
       "<thead><tr><th scope=col>country</th><th scope=col>year</th><th scope=col>cases</th></tr></thead>\n",
       "<tbody>\n",
       "\t<tr><td>Afghanistan</td><td>1999       </td><td>   745     </td></tr>\n",
       "\t<tr><td>Brazil     </td><td>1999       </td><td> 37737     </td></tr>\n",
       "\t<tr><td>China      </td><td>1999       </td><td>212258     </td></tr>\n",
       "\t<tr><td>Afghanistan</td><td>2000       </td><td>  2666     </td></tr>\n",
       "\t<tr><td>Brazil     </td><td>2000       </td><td> 80488     </td></tr>\n",
       "\t<tr><td>China      </td><td>2000       </td><td>213766     </td></tr>\n",
       "</tbody>\n",
       "</table>\n"
      ],
      "text/latex": [
       "\\begin{tabular}{r|lll}\n",
       " country & year & cases\\\\\n",
       "\\hline\n",
       "\t Afghanistan & 1999        &    745     \\\\\n",
       "\t Brazil      & 1999        &  37737     \\\\\n",
       "\t China       & 1999        & 212258     \\\\\n",
       "\t Afghanistan & 2000        &   2666     \\\\\n",
       "\t Brazil      & 2000        &  80488     \\\\\n",
       "\t China       & 2000        & 213766     \\\\\n",
       "\\end{tabular}\n"
      ],
      "text/markdown": [
       "\n",
       "country | year | cases | \n",
       "|---|---|---|---|---|---|\n",
       "| Afghanistan | 1999        |    745      | \n",
       "| Brazil      | 1999        |  37737      | \n",
       "| China       | 1999        | 212258      | \n",
       "| Afghanistan | 2000        |   2666      | \n",
       "| Brazil      | 2000        |  80488      | \n",
       "| China       | 2000        | 213766      | \n",
       "\n",
       "\n"
      ],
      "text/plain": [
       "  country     year cases \n",
       "1 Afghanistan 1999    745\n",
       "2 Brazil      1999  37737\n",
       "3 China       1999 212258\n",
       "4 Afghanistan 2000   2666\n",
       "5 Brazil      2000  80488\n",
       "6 China       2000 213766"
      ]
     },
     "metadata": {},
     "output_type": "display_data"
    }
   ],
   "source": [
    "## gatherデータを寄せることができる\n",
    "table4a %>%\n",
    "    gather(`1999`, `2000`, key = \"year\", value = \"cases\")"
   ]
  },
  {
   "cell_type": "code",
   "execution_count": 15,
   "metadata": {
    "collapsed": false
   },
   "outputs": [
    {
     "data": {
      "text/html": [
       "<table>\n",
       "<thead><tr><th scope=col>country</th><th scope=col>year</th><th scope=col>cases</th></tr></thead>\n",
       "<tbody>\n",
       "\t<tr><td>Afghanistan</td><td>1999       </td><td>   745     </td></tr>\n",
       "\t<tr><td>Brazil     </td><td>1999       </td><td> 37737     </td></tr>\n",
       "\t<tr><td>China      </td><td>1999       </td><td>212258     </td></tr>\n",
       "\t<tr><td>Afghanistan</td><td>2000       </td><td>  2666     </td></tr>\n",
       "\t<tr><td>Brazil     </td><td>2000       </td><td> 80488     </td></tr>\n",
       "\t<tr><td>China      </td><td>2000       </td><td>213766     </td></tr>\n",
       "</tbody>\n",
       "</table>\n"
      ],
      "text/latex": [
       "\\begin{tabular}{r|lll}\n",
       " country & year & cases\\\\\n",
       "\\hline\n",
       "\t Afghanistan & 1999        &    745     \\\\\n",
       "\t Brazil      & 1999        &  37737     \\\\\n",
       "\t China       & 1999        & 212258     \\\\\n",
       "\t Afghanistan & 2000        &   2666     \\\\\n",
       "\t Brazil      & 2000        &  80488     \\\\\n",
       "\t China       & 2000        & 213766     \\\\\n",
       "\\end{tabular}\n"
      ],
      "text/markdown": [
       "\n",
       "country | year | cases | \n",
       "|---|---|---|---|---|---|\n",
       "| Afghanistan | 1999        |    745      | \n",
       "| Brazil      | 1999        |  37737      | \n",
       "| China       | 1999        | 212258      | \n",
       "| Afghanistan | 2000        |   2666      | \n",
       "| Brazil      | 2000        |  80488      | \n",
       "| China       | 2000        | 213766      | \n",
       "\n",
       "\n"
      ],
      "text/plain": [
       "  country     year cases \n",
       "1 Afghanistan 1999    745\n",
       "2 Brazil      1999  37737\n",
       "3 China       1999 212258\n",
       "4 Afghanistan 2000   2666\n",
       "5 Brazil      2000  80488\n",
       "6 China       2000 213766"
      ]
     },
     "metadata": {},
     "output_type": "display_data"
    }
   ],
   "source": [
    "## selectと同じ記法でカラムを選択することが可能である\n",
    "table4a %>%\n",
    "    gather (one_of(c (\"1999\", \"2000\")), key=\"year\", value=\"cases\")"
   ]
  },
  {
   "cell_type": "code",
   "execution_count": 16,
   "metadata": {
    "collapsed": false
   },
   "outputs": [
    {
     "data": {
      "text/html": [
       "<table>\n",
       "<thead><tr><th scope=col>country</th><th scope=col>year</th><th scope=col>cases</th><th scope=col>population</th></tr></thead>\n",
       "<tbody>\n",
       "\t<tr><td>Afghanistan</td><td>1999       </td><td>   745     </td><td>  19987071 </td></tr>\n",
       "\t<tr><td>Afghanistan</td><td>2000       </td><td>  2666     </td><td>  20595360 </td></tr>\n",
       "\t<tr><td>Brazil     </td><td>1999       </td><td> 37737     </td><td> 172006362 </td></tr>\n",
       "\t<tr><td>Brazil     </td><td>2000       </td><td> 80488     </td><td> 174504898 </td></tr>\n",
       "\t<tr><td>China      </td><td>1999       </td><td>212258     </td><td>1272915272 </td></tr>\n",
       "\t<tr><td>China      </td><td>2000       </td><td>213766     </td><td>1280428583 </td></tr>\n",
       "</tbody>\n",
       "</table>\n"
      ],
      "text/latex": [
       "\\begin{tabular}{r|llll}\n",
       " country & year & cases & population\\\\\n",
       "\\hline\n",
       "\t Afghanistan & 1999        &    745      &   19987071 \\\\\n",
       "\t Afghanistan & 2000        &   2666      &   20595360 \\\\\n",
       "\t Brazil      & 1999        &  37737      &  172006362 \\\\\n",
       "\t Brazil      & 2000        &  80488      &  174504898 \\\\\n",
       "\t China       & 1999        & 212258      & 1272915272 \\\\\n",
       "\t China       & 2000        & 213766      & 1280428583 \\\\\n",
       "\\end{tabular}\n"
      ],
      "text/markdown": [
       "\n",
       "country | year | cases | population | \n",
       "|---|---|---|---|---|---|\n",
       "| Afghanistan | 1999        |    745      |   19987071  | \n",
       "| Afghanistan | 2000        |   2666      |   20595360  | \n",
       "| Brazil      | 1999        |  37737      |  172006362  | \n",
       "| Brazil      | 2000        |  80488      |  174504898  | \n",
       "| China       | 1999        | 212258      | 1272915272  | \n",
       "| China       | 2000        | 213766      | 1280428583  | \n",
       "\n",
       "\n"
      ],
      "text/plain": [
       "  country     year cases  population\n",
       "1 Afghanistan 1999    745   19987071\n",
       "2 Afghanistan 2000   2666   20595360\n",
       "3 Brazil      1999  37737  172006362\n",
       "4 Brazil      2000  80488  174504898\n",
       "5 China       1999 212258 1272915272\n",
       "6 China       2000 213766 1280428583"
      ]
     },
     "metadata": {},
     "output_type": "display_data"
    }
   ],
   "source": [
    "## spreadでデータを展開\n",
    "spread(table2, key=type, value=count)"
   ]
  },
  {
   "cell_type": "code",
   "execution_count": 22,
   "metadata": {
    "collapsed": false
   },
   "outputs": [
    {
     "data": {
      "text/html": [
       "<table>\n",
       "<thead><tr><th scope=col>half</th><th scope=col>year</th><th scope=col>return</th></tr></thead>\n",
       "<tbody>\n",
       "\t<tr><td>1   </td><td>2015</td><td>1.88</td></tr>\n",
       "\t<tr><td>2   </td><td>2015</td><td>0.59</td></tr>\n",
       "\t<tr><td>1   </td><td>2016</td><td>0.92</td></tr>\n",
       "\t<tr><td>2   </td><td>2016</td><td>0.17</td></tr>\n",
       "</tbody>\n",
       "</table>\n"
      ],
      "text/latex": [
       "\\begin{tabular}{r|lll}\n",
       " half & year & return\\\\\n",
       "\\hline\n",
       "\t 1    & 2015 & 1.88\\\\\n",
       "\t 2    & 2015 & 0.59\\\\\n",
       "\t 1    & 2016 & 0.92\\\\\n",
       "\t 2    & 2016 & 0.17\\\\\n",
       "\\end{tabular}\n"
      ],
      "text/markdown": [
       "\n",
       "half | year | return | \n",
       "|---|---|---|---|\n",
       "| 1    | 2015 | 1.88 | \n",
       "| 2    | 2015 | 0.59 | \n",
       "| 1    | 2016 | 0.92 | \n",
       "| 2    | 2016 | 0.17 | \n",
       "\n",
       "\n"
      ],
      "text/plain": [
       "  half year return\n",
       "1 1    2015 1.88  \n",
       "2 2    2015 0.59  \n",
       "3 1    2016 0.92  \n",
       "4 2    2016 0.17  "
      ]
     },
     "metadata": {},
     "output_type": "display_data"
    }
   ],
   "source": [
    "## 練習\n",
    "stocks <- \n",
    "tibble (\n",
    "    year = c (2015, 2015, 2016, 2016), \n",
    "    half = c (   1,    2,    1,    2), \n",
    "    return = c (1.88, .59, .92, .17)\n",
    ")\n",
    "\n",
    "stocks %>%\n",
    "    spread(key = year, value = return) %>%\n",
    "    gather (key=\"year\", value=\"return\", `2015`:`2016`)\n"
   ]
  },
  {
   "cell_type": "markdown",
   "metadata": {},
   "source": [
    "### Separating and Pull\n",
    "\n",
    "separateで分割して, uniteでくっつける. \n"
   ]
  },
  {
   "cell_type": "code",
   "execution_count": 26,
   "metadata": {
    "collapsed": false
   },
   "outputs": [
    {
     "data": {
      "text/html": [
       "<table>\n",
       "<thead><tr><th scope=col>country</th><th scope=col>year</th><th scope=col>cases</th><th scope=col>population</th></tr></thead>\n",
       "<tbody>\n",
       "\t<tr><td>Afghanistan</td><td>1999       </td><td>745        </td><td>19987071   </td></tr>\n",
       "\t<tr><td>Afghanistan</td><td>2000       </td><td>2666       </td><td>20595360   </td></tr>\n",
       "\t<tr><td>Brazil     </td><td>1999       </td><td>37737      </td><td>172006362  </td></tr>\n",
       "\t<tr><td>Brazil     </td><td>2000       </td><td>80488      </td><td>174504898  </td></tr>\n",
       "\t<tr><td>China      </td><td>1999       </td><td>212258     </td><td>1272915272 </td></tr>\n",
       "\t<tr><td>China      </td><td>2000       </td><td>213766     </td><td>1280428583 </td></tr>\n",
       "</tbody>\n",
       "</table>\n"
      ],
      "text/latex": [
       "\\begin{tabular}{r|llll}\n",
       " country & year & cases & population\\\\\n",
       "\\hline\n",
       "\t Afghanistan & 1999        & 745         & 19987071   \\\\\n",
       "\t Afghanistan & 2000        & 2666        & 20595360   \\\\\n",
       "\t Brazil      & 1999        & 37737       & 172006362  \\\\\n",
       "\t Brazil      & 2000        & 80488       & 174504898  \\\\\n",
       "\t China       & 1999        & 212258      & 1272915272 \\\\\n",
       "\t China       & 2000        & 213766      & 1280428583 \\\\\n",
       "\\end{tabular}\n"
      ],
      "text/markdown": [
       "\n",
       "country | year | cases | population | \n",
       "|---|---|---|---|---|---|\n",
       "| Afghanistan | 1999        | 745         | 19987071    | \n",
       "| Afghanistan | 2000        | 2666        | 20595360    | \n",
       "| Brazil      | 1999        | 37737       | 172006362   | \n",
       "| Brazil      | 2000        | 80488       | 174504898   | \n",
       "| China       | 1999        | 212258      | 1272915272  | \n",
       "| China       | 2000        | 213766      | 1280428583  | \n",
       "\n",
       "\n"
      ],
      "text/plain": [
       "  country     year cases  population\n",
       "1 Afghanistan 1999 745    19987071  \n",
       "2 Afghanistan 2000 2666   20595360  \n",
       "3 Brazil      1999 37737  172006362 \n",
       "4 Brazil      2000 80488  174504898 \n",
       "5 China       1999 212258 1272915272\n",
       "6 China       2000 213766 1280428583"
      ]
     },
     "metadata": {},
     "output_type": "display_data"
    }
   ],
   "source": [
    "## convertをつけておくと, integerで良い\n",
    "table3 %>%\n",
    "    separate (rate, into = c (\"cases\", \"population\"), sep=\"/\")"
   ]
  },
  {
   "cell_type": "code",
   "execution_count": 27,
   "metadata": {
    "collapsed": false
   },
   "outputs": [
    {
     "data": {
      "text/html": [
       "<table>\n",
       "<thead><tr><th scope=col>country</th><th scope=col>century</th><th scope=col>year</th><th scope=col>rate</th></tr></thead>\n",
       "<tbody>\n",
       "\t<tr><td>Afghanistan      </td><td>19               </td><td>99               </td><td>745/19987071     </td></tr>\n",
       "\t<tr><td>Afghanistan      </td><td>20               </td><td>00               </td><td>2666/20595360    </td></tr>\n",
       "\t<tr><td>Brazil           </td><td>19               </td><td>99               </td><td>37737/172006362  </td></tr>\n",
       "\t<tr><td>Brazil           </td><td>20               </td><td>00               </td><td>80488/174504898  </td></tr>\n",
       "\t<tr><td>China            </td><td>19               </td><td>99               </td><td>212258/1272915272</td></tr>\n",
       "\t<tr><td>China            </td><td>20               </td><td>00               </td><td>213766/1280428583</td></tr>\n",
       "</tbody>\n",
       "</table>\n"
      ],
      "text/latex": [
       "\\begin{tabular}{r|llll}\n",
       " country & century & year & rate\\\\\n",
       "\\hline\n",
       "\t Afghanistan       & 19                & 99                & 745/19987071     \\\\\n",
       "\t Afghanistan       & 20                & 00                & 2666/20595360    \\\\\n",
       "\t Brazil            & 19                & 99                & 37737/172006362  \\\\\n",
       "\t Brazil            & 20                & 00                & 80488/174504898  \\\\\n",
       "\t China             & 19                & 99                & 212258/1272915272\\\\\n",
       "\t China             & 20                & 00                & 213766/1280428583\\\\\n",
       "\\end{tabular}\n"
      ],
      "text/markdown": [
       "\n",
       "country | century | year | rate | \n",
       "|---|---|---|---|---|---|\n",
       "| Afghanistan       | 19                | 99                | 745/19987071      | \n",
       "| Afghanistan       | 20                | 00                | 2666/20595360     | \n",
       "| Brazil            | 19                | 99                | 37737/172006362   | \n",
       "| Brazil            | 20                | 00                | 80488/174504898   | \n",
       "| China             | 19                | 99                | 212258/1272915272 | \n",
       "| China             | 20                | 00                | 213766/1280428583 | \n",
       "\n",
       "\n"
      ],
      "text/plain": [
       "  country     century year rate             \n",
       "1 Afghanistan 19      99   745/19987071     \n",
       "2 Afghanistan 20      00   2666/20595360    \n",
       "3 Brazil      19      99   37737/172006362  \n",
       "4 Brazil      20      00   80488/174504898  \n",
       "5 China       19      99   212258/1272915272\n",
       "6 China       20      00   213766/1280428583"
      ]
     },
     "metadata": {},
     "output_type": "display_data"
    }
   ],
   "source": [
    "## separateは数値に対しても実行できる\n",
    "table3 %>%\n",
    "    separate(year, into=c(\"century\", \"year\"), sep=2)"
   ]
  },
  {
   "cell_type": "code",
   "execution_count": 32,
   "metadata": {
    "collapsed": false
   },
   "outputs": [
    {
     "data": {
      "text/html": [
       "<table>\n",
       "<thead><tr><th scope=col>country</th><th scope=col>new</th><th scope=col>rate</th></tr></thead>\n",
       "<tbody>\n",
       "\t<tr><td>Afghanistan      </td><td>1999             </td><td>745/19987071     </td></tr>\n",
       "\t<tr><td>Afghanistan      </td><td>2000             </td><td>2666/20595360    </td></tr>\n",
       "\t<tr><td>Brazil           </td><td>1999             </td><td>37737/172006362  </td></tr>\n",
       "\t<tr><td>Brazil           </td><td>2000             </td><td>80488/174504898  </td></tr>\n",
       "\t<tr><td>China            </td><td>1999             </td><td>212258/1272915272</td></tr>\n",
       "\t<tr><td>China            </td><td>2000             </td><td>213766/1280428583</td></tr>\n",
       "</tbody>\n",
       "</table>\n"
      ],
      "text/latex": [
       "\\begin{tabular}{r|lll}\n",
       " country & new & rate\\\\\n",
       "\\hline\n",
       "\t Afghanistan       & 1999              & 745/19987071     \\\\\n",
       "\t Afghanistan       & 2000              & 2666/20595360    \\\\\n",
       "\t Brazil            & 1999              & 37737/172006362  \\\\\n",
       "\t Brazil            & 2000              & 80488/174504898  \\\\\n",
       "\t China             & 1999              & 212258/1272915272\\\\\n",
       "\t China             & 2000              & 213766/1280428583\\\\\n",
       "\\end{tabular}\n"
      ],
      "text/markdown": [
       "\n",
       "country | new | rate | \n",
       "|---|---|---|---|---|---|\n",
       "| Afghanistan       | 1999              | 745/19987071      | \n",
       "| Afghanistan       | 2000              | 2666/20595360     | \n",
       "| Brazil            | 1999              | 37737/172006362   | \n",
       "| Brazil            | 2000              | 80488/174504898   | \n",
       "| China             | 1999              | 212258/1272915272 | \n",
       "| China             | 2000              | 213766/1280428583 | \n",
       "\n",
       "\n"
      ],
      "text/plain": [
       "  country     new  rate             \n",
       "1 Afghanistan 1999 745/19987071     \n",
       "2 Afghanistan 2000 2666/20595360    \n",
       "3 Brazil      1999 37737/172006362  \n",
       "4 Brazil      2000 80488/174504898  \n",
       "5 China       1999 212258/1272915272\n",
       "6 China       2000 213766/1280428583"
      ]
     },
     "metadata": {},
     "output_type": "display_data"
    }
   ],
   "source": [
    "table5 %>%\n",
    "    unite(new, century, year, sep=\"\")"
   ]
  },
  {
   "cell_type": "code",
   "execution_count": 45,
   "metadata": {
    "collapsed": false
   },
   "outputs": [
    {
     "data": {
      "text/html": [
       "<table>\n",
       "<thead><tr><th scope=col>person</th><th scope=col>treatment</th><th scope=col>response</th></tr></thead>\n",
       "<tbody>\n",
       "\t<tr><td>A</td><td>1</td><td>1</td></tr>\n",
       "\t<tr><td>A</td><td>2</td><td>1</td></tr>\n",
       "\t<tr><td>A</td><td>3</td><td>3</td></tr>\n",
       "\t<tr><td>B</td><td>4</td><td>4</td></tr>\n",
       "</tbody>\n",
       "</table>\n"
      ],
      "text/latex": [
       "\\begin{tabular}{r|lll}\n",
       " person & treatment & response\\\\\n",
       "\\hline\n",
       "\t A & 1 & 1\\\\\n",
       "\t A & 2 & 1\\\\\n",
       "\t A & 3 & 3\\\\\n",
       "\t B & 4 & 4\\\\\n",
       "\\end{tabular}\n"
      ],
      "text/markdown": [
       "\n",
       "person | treatment | response | \n",
       "|---|---|---|---|\n",
       "| A | 1 | 1 | \n",
       "| A | 2 | 1 | \n",
       "| A | 3 | 3 | \n",
       "| B | 4 | 4 | \n",
       "\n",
       "\n"
      ],
      "text/plain": [
       "  person treatment response\n",
       "1 A      1         1       \n",
       "2 A      2         1       \n",
       "3 A      3         3       \n",
       "4 B      4         4       "
      ]
     },
     "metadata": {},
     "output_type": "display_data"
    }
   ],
   "source": [
    "## fillで欠測値を埋めることが可能である\n",
    "treatment <- tibble (\n",
    "    person    = c (\"A\", NA, NA, \"B\"), \n",
    "    treatment = 1:4, \n",
    "    response  = c (1, NA, 3, 4)\n",
    ")\n",
    "fill (treatment, person, response, .direction = c (\"down\"))"
   ]
  }
 ],
 "metadata": {
  "kernelspec": {
   "display_name": "R",
   "language": "R",
   "name": "ir"
  },
  "language_info": {
   "codemirror_mode": "r",
   "file_extension": ".r",
   "mimetype": "text/x-r-source",
   "name": "R",
   "pygments_lexer": "r",
   "version": "3.4.0"
  }
 },
 "nbformat": 4,
 "nbformat_minor": 2
}
