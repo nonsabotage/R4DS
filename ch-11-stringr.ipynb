{
 "cells": [
  {
   "cell_type": "markdown",
   "metadata": {},
   "source": [
    "## Strings with stringr"
   ]
  },
  {
   "cell_type": "code",
   "execution_count": 2,
   "metadata": {
    "collapsed": false
   },
   "outputs": [
    {
     "name": "stderr",
     "output_type": "stream",
     "text": [
      "Loading tidyverse: ggplot2\n",
      "Loading tidyverse: tibble\n",
      "Loading tidyverse: tidyr\n",
      "Loading tidyverse: readr\n",
      "Loading tidyverse: purrr\n",
      "Loading tidyverse: dplyr\n",
      "Conflicts with tidy packages ---------------------------------------------------\n",
      "filter(): dplyr, stats\n",
      "lag():    dplyr, stats\n"
     ]
    }
   ],
   "source": [
    "library (tidyverse)\n",
    "library (stringr)"
   ]
  },
  {
   "cell_type": "markdown",
   "metadata": {
    "collapsed": true
   },
   "source": [
    "### with NA\n",
    "\n",
    "stringrはNAをNAとして扱う. NA値の場合に文字列として利用したい場合には, つぎのようにする. \n",
    "\n"
   ]
  },
  {
   "cell_type": "code",
   "execution_count": 3,
   "metadata": {
    "collapsed": false
   },
   "outputs": [
    {
     "data": {
      "text/html": [
       "<ol class=list-inline>\n",
       "\t<li>'|-ABC-|'</li>\n",
       "\t<li>NA</li>\n",
       "</ol>\n"
      ],
      "text/latex": [
       "\\begin{enumerate*}\n",
       "\\item '\\textbar{}-ABC-\\textbar{}'\n",
       "\\item NA\n",
       "\\end{enumerate*}\n"
      ],
      "text/markdown": [
       "1. '|-ABC-|'\n",
       "2. NA\n",
       "\n",
       "\n"
      ],
      "text/plain": [
       "[1] \"|-ABC-|\" NA       "
      ]
     },
     "metadata": {},
     "output_type": "display_data"
    },
    {
     "data": {
      "text/html": [
       "<ol class=list-inline>\n",
       "\t<li>'|-ABC-|'</li>\n",
       "\t<li>'|-NA-|'</li>\n",
       "</ol>\n"
      ],
      "text/latex": [
       "\\begin{enumerate*}\n",
       "\\item '\\textbar{}-ABC-\\textbar{}'\n",
       "\\item '\\textbar{}-NA-\\textbar{}'\n",
       "\\end{enumerate*}\n"
      ],
      "text/markdown": [
       "1. '|-ABC-|'\n",
       "2. '|-NA-|'\n",
       "\n",
       "\n"
      ],
      "text/plain": [
       "[1] \"|-ABC-|\" \"|-NA-|\" "
      ]
     },
     "metadata": {},
     "output_type": "display_data"
    }
   ],
   "source": [
    "x <- c (\"ABC\", NA_character_)\n",
    "str_c (\"|-\", x, \"-|\")\n",
    "str_c (\"|-\", str_replace_na(x), \"-|\")\n"
   ]
  },
  {
   "cell_type": "markdown",
   "metadata": {},
   "source": [
    "### locale\n",
    "\n"
   ]
  },
  {
   "cell_type": "code",
   "execution_count": 14,
   "metadata": {
    "collapsed": false
   },
   "outputs": [
    {
     "data": {
      "text/html": [
       "<ol class=list-inline>\n",
       "\t<li>'apple'</li>\n",
       "\t<li>'banana'</li>\n",
       "\t<li>'eggplant'</li>\n",
       "\t<li>'O157'</li>\n",
       "\t<li>'みかん'</li>\n",
       "</ol>\n"
      ],
      "text/latex": [
       "\\begin{enumerate*}\n",
       "\\item 'apple'\n",
       "\\item 'banana'\n",
       "\\item 'eggplant'\n",
       "\\item 'O157'\n",
       "\\item 'みかん'\n",
       "\\end{enumerate*}\n"
      ],
      "text/markdown": [
       "1. 'apple'\n",
       "2. 'banana'\n",
       "3. 'eggplant'\n",
       "4. 'O157'\n",
       "5. 'みかん'\n",
       "\n",
       "\n"
      ],
      "text/plain": [
       "[1] \"apple\"    \"banana\"   \"eggplant\" \"O157\"     \"みかん\"  "
      ]
     },
     "metadata": {},
     "output_type": "display_data"
    },
    {
     "data": {
      "text/html": [
       "<ol class=list-inline>\n",
       "\t<li>'apple'</li>\n",
       "\t<li>'eggplant'</li>\n",
       "\t<li>'O157'</li>\n",
       "\t<li>'banana'</li>\n",
       "\t<li>'みかん'</li>\n",
       "</ol>\n"
      ],
      "text/latex": [
       "\\begin{enumerate*}\n",
       "\\item 'apple'\n",
       "\\item 'eggplant'\n",
       "\\item 'O157'\n",
       "\\item 'banana'\n",
       "\\item 'みかん'\n",
       "\\end{enumerate*}\n"
      ],
      "text/markdown": [
       "1. 'apple'\n",
       "2. 'eggplant'\n",
       "3. 'O157'\n",
       "4. 'banana'\n",
       "5. 'みかん'\n",
       "\n",
       "\n"
      ],
      "text/plain": [
       "[1] \"apple\"    \"eggplant\" \"O157\"     \"banana\"   \"みかん\"  "
      ]
     },
     "metadata": {},
     "output_type": "display_data"
    }
   ],
   "source": [
    "x <- c (\"apple\", \"banana\", \"eggplant\", \"みかん\", \"O157\")\n",
    "str_sort (x, locale=\"en\")\n",
    "str_sort (x, locale=\"haw\")\n"
   ]
  },
  {
   "cell_type": "markdown",
   "metadata": {},
   "source": [
    "### Grouped Matches\n"
   ]
  },
  {
   "cell_type": "code",
   "execution_count": 18,
   "metadata": {
    "collapsed": false
   },
   "outputs": [
    {
     "data": {
      "text/html": [
       "<ol class=list-inline>\n",
       "\t<li>'the smooth'</li>\n",
       "\t<li>'the sheet'</li>\n",
       "\t<li>'the depth'</li>\n",
       "\t<li>'a chicken'</li>\n",
       "\t<li>'the parked'</li>\n",
       "\t<li>'the sun'</li>\n",
       "\t<li>'the huge'</li>\n",
       "\t<li>'the ball'</li>\n",
       "\t<li>'the woman'</li>\n",
       "\t<li>'a helps'</li>\n",
       "</ol>\n"
      ],
      "text/latex": [
       "\\begin{enumerate*}\n",
       "\\item 'the smooth'\n",
       "\\item 'the sheet'\n",
       "\\item 'the depth'\n",
       "\\item 'a chicken'\n",
       "\\item 'the parked'\n",
       "\\item 'the sun'\n",
       "\\item 'the huge'\n",
       "\\item 'the ball'\n",
       "\\item 'the woman'\n",
       "\\item 'a helps'\n",
       "\\end{enumerate*}\n"
      ],
      "text/markdown": [
       "1. 'the smooth'\n",
       "2. 'the sheet'\n",
       "3. 'the depth'\n",
       "4. 'a chicken'\n",
       "5. 'the parked'\n",
       "6. 'the sun'\n",
       "7. 'the huge'\n",
       "8. 'the ball'\n",
       "9. 'the woman'\n",
       "10. 'a helps'\n",
       "\n",
       "\n"
      ],
      "text/plain": [
       " [1] \"the smooth\" \"the sheet\"  \"the depth\"  \"a chicken\"  \"the parked\"\n",
       " [6] \"the sun\"    \"the huge\"   \"the ball\"   \"the woman\"  \"a helps\"   "
      ]
     },
     "metadata": {},
     "output_type": "display_data"
    }
   ],
   "source": [
    "noun <- \"(a|the) ([^ ]+)\"\n",
    "has_noun <- sentences %>%\n",
    "    str_subset (noun) %>%\n",
    "    head(10);\n",
    "has_noun %>%\n",
    "    str_extract(noun)"
   ]
  },
  {
   "cell_type": "code",
   "execution_count": 21,
   "metadata": {
    "collapsed": false
   },
   "outputs": [
    {
     "name": "stdout",
     "output_type": "stream",
     "text": [
      "      [,1]         [,2]  [,3]     \n",
      " [1,] \"the smooth\" \"the\" \"smooth\" \n",
      " [2,] \"the sheet\"  \"the\" \"sheet\"  \n",
      " [3,] \"the depth\"  \"the\" \"depth\"  \n",
      " [4,] \"a chicken\"  \"a\"   \"chicken\"\n",
      " [5,] \"the parked\" \"the\" \"parked\" \n",
      " [6,] \"the sun\"    \"the\" \"sun\"    \n",
      " [7,] \"the huge\"   \"the\" \"huge\"   \n",
      " [8,] \"the ball\"   \"the\" \"ball\"   \n",
      " [9,] \"the woman\"  \"the\" \"woman\"  \n",
      "[10,] \"a helps\"    \"a\"   \"helps\"  \n"
     ]
    }
   ],
   "source": [
    "has_noun %>%\n",
    "    str_match(noun) %>%\n",
    "    print"
   ]
  },
  {
   "cell_type": "code",
   "execution_count": 23,
   "metadata": {
    "collapsed": false
   },
   "outputs": [
    {
     "name": "stdout",
     "output_type": "stream",
     "text": [
      "# A tibble: 720 x 2\n",
      "   article    noun\n",
      " *   <chr>   <chr>\n",
      " 1     the  smooth\n",
      " 2     the   sheet\n",
      " 3     the   depth\n",
      " 4       a chicken\n",
      " 5    <NA>    <NA>\n",
      " 6    <NA>    <NA>\n",
      " 7     the  parked\n",
      " 8    <NA>    <NA>\n",
      " 9    <NA>    <NA>\n",
      "10    <NA>    <NA>\n",
      "# ... with 710 more rows\n"
     ]
    }
   ],
   "source": [
    "tibble(sentence = sentences) %>%\n",
    "    tidyr::extract (\n",
    "        sentence, \n",
    "        c (\"article\", \"noun\"), \"(a|the) ([^ ]+)\", \n",
    "        reomove =FALSE\n",
    "    ) %>% \n",
    "    print()"
   ]
  },
  {
   "cell_type": "markdown",
   "metadata": {},
   "source": []
  },
  {
   "cell_type": "markdown",
   "metadata": {},
   "source": [
    "### replaceing mathches"
   ]
  },
  {
   "cell_type": "code",
   "execution_count": 27,
   "metadata": {
    "collapsed": false
   },
   "outputs": [
    {
     "data": {
      "text/html": [
       "<ol class=list-inline>\n",
       "\t<li>'one house'</li>\n",
       "\t<li>'two cars'</li>\n",
       "\t<li>'theee pepole'</li>\n",
       "\t<li>'a one'</li>\n",
       "</ol>\n"
      ],
      "text/latex": [
       "\\begin{enumerate*}\n",
       "\\item 'one house'\n",
       "\\item 'two cars'\n",
       "\\item 'theee pepole'\n",
       "\\item 'a one'\n",
       "\\end{enumerate*}\n"
      ],
      "text/markdown": [
       "1. 'one house'\n",
       "2. 'two cars'\n",
       "3. 'theee pepole'\n",
       "4. 'a one'\n",
       "\n",
       "\n"
      ],
      "text/plain": [
       "[1] \"one house\"    \"two cars\"     \"theee pepole\" \"a one\"       "
      ]
     },
     "metadata": {},
     "output_type": "display_data"
    }
   ],
   "source": [
    "## replaceは, 複数のパターンマッチを一度に与えることができる\n",
    "x <- c (\"1 house\", \"2 cars\", \"3 pepole\", \"a 1\")\n",
    "str_replace_all (x, c (\"1\" = \"one\", \"2\" = \"two\", \"3\" = \"theee\"))"
   ]
  },
  {
   "cell_type": "code",
   "execution_count": 28,
   "metadata": {
    "collapsed": false
   },
   "outputs": [
    {
     "data": {
      "text/html": [
       "<ol class=list-inline>\n",
       "\t<li>'The canoe birch slid on the smooth planks.'</li>\n",
       "\t<li>'Glue sheet the to the dark blue background.'</li>\n",
       "\t<li>'It\\'s to easy tell the depth of a well.'</li>\n",
       "\t<li>'These a days chicken leg is a rare dish.'</li>\n",
       "\t<li>'Rice often is served in round bowls.'</li>\n",
       "</ol>\n"
      ],
      "text/latex": [
       "\\begin{enumerate*}\n",
       "\\item 'The canoe birch slid on the smooth planks.'\n",
       "\\item 'Glue sheet the to the dark blue background.'\n",
       "\\item 'It\\textbackslash{}'s to easy tell the depth of a well.'\n",
       "\\item 'These a days chicken leg is a rare dish.'\n",
       "\\item 'Rice often is served in round bowls.'\n",
       "\\end{enumerate*}\n"
      ],
      "text/markdown": [
       "1. 'The canoe birch slid on the smooth planks.'\n",
       "2. 'Glue sheet the to the dark blue background.'\n",
       "3. 'It\\'s to easy tell the depth of a well.'\n",
       "4. 'These a days chicken leg is a rare dish.'\n",
       "5. 'Rice often is served in round bowls.'\n",
       "\n",
       "\n"
      ],
      "text/plain": [
       "[1] \"The canoe birch slid on the smooth planks.\" \n",
       "[2] \"Glue sheet the to the dark blue background.\"\n",
       "[3] \"It's to easy tell the depth of a well.\"     \n",
       "[4] \"These a days chicken leg is a rare dish.\"   \n",
       "[5] \"Rice often is served in round bowls.\"       "
      ]
     },
     "metadata": {},
     "output_type": "display_data"
    }
   ],
   "source": [
    "## web 言語のようにバックリファレンスが可能である\n",
    "## 以下では3センテンス目を, 2センテンス目と入れ替えている\n",
    "sentences %>%\n",
    "    str_replace (\"([^ ]+) ([^ ]+) ([^ ]+)\", \"\\\\1 \\\\3 \\\\2\") %>% \n",
    "    head(5)"
   ]
  },
  {
   "cell_type": "code",
   "execution_count": null,
   "metadata": {
    "collapsed": true
   },
   "outputs": [],
   "source": []
  }
 ],
 "metadata": {
  "kernelspec": {
   "display_name": "R",
   "language": "R",
   "name": "ir"
  },
  "language_info": {
   "codemirror_mode": "r",
   "file_extension": ".r",
   "mimetype": "text/x-r-source",
   "name": "R",
   "pygments_lexer": "r",
   "version": "3.4.0"
  }
 },
 "nbformat": 4,
 "nbformat_minor": 2
}
