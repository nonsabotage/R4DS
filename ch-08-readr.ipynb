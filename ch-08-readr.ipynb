{
 "cells": [
  {
   "cell_type": "markdown",
   "metadata": {},
   "source": [
    "## Data import with readr\n",
    "\n",
    "表形式のテキストデータについては, このパッケージを利用することで, \n",
    "インポートに時間をかけずにデータと向き合うことが可能となる. \n",
    "\n",
    "`read_csv`を中心に説明するが他の関数も概ね同じ記法であるため, 十分に参考になる. "
   ]
  },
  {
   "cell_type": "code",
   "execution_count": 1,
   "metadata": {
    "collapsed": false
   },
   "outputs": [
    {
     "name": "stderr",
     "output_type": "stream",
     "text": [
      "Loading tidyverse: ggplot2\n",
      "Loading tidyverse: tibble\n",
      "Loading tidyverse: tidyr\n",
      "Loading tidyverse: readr\n",
      "Loading tidyverse: purrr\n",
      "Loading tidyverse: dplyr\n",
      "Conflicts with tidy packages ---------------------------------------------------\n",
      "filter(): dplyr, stats\n",
      "lag():    dplyr, stats\n"
     ]
    }
   ],
   "source": [
    "library (tidyverse)"
   ]
  },
  {
   "cell_type": "code",
   "execution_count": 3,
   "metadata": {
    "collapsed": false
   },
   "outputs": [
    {
     "name": "stdout",
     "output_type": "stream",
     "text": [
      "# A tibble: 1 × 3\n",
      "      a     b     c\n",
      "  <int> <dbl> <lgl>\n",
      "1     1   0.2  TRUE\n"
     ]
    }
   ],
   "source": [
    "read_delim (\"a|b|c\\n1|.2|TRUE\", delim= \"|\") %>% print"
   ]
  },
  {
   "cell_type": "markdown",
   "metadata": {},
   "source": [
    "### Parsing a Vector\n",
    "\n",
    "readrの詳細に迫る前に, parse_*関数について遠回りして確認しよう. "
   ]
  },
  {
   "cell_type": "code",
   "execution_count": 7,
   "metadata": {
    "collapsed": false
   },
   "outputs": [
    {
     "data": {
      "text/html": [
       "<ol class=list-inline>\n",
       "\t<li>TRUE</li>\n",
       "\t<li>&lt;NA&gt;</li>\n",
       "\t<li>FALSE</li>\n",
       "</ol>\n"
      ],
      "text/latex": [
       "\\begin{enumerate*}\n",
       "\\item TRUE\n",
       "\\item <NA>\n",
       "\\item FALSE\n",
       "\\end{enumerate*}\n"
      ],
      "text/markdown": [
       "1. TRUE\n",
       "2. &lt;NA&gt;\n",
       "3. FALSE\n",
       "\n",
       "\n"
      ],
      "text/plain": [
       "[1]  TRUE    NA FALSE"
      ]
     },
     "metadata": {},
     "output_type": "display_data"
    },
    {
     "data": {
      "text/html": [
       "<ol class=list-inline>\n",
       "\t<li>1</li>\n",
       "\t<li>3</li>\n",
       "\t<li>2</li>\n",
       "</ol>\n"
      ],
      "text/latex": [
       "\\begin{enumerate*}\n",
       "\\item 1\n",
       "\\item 3\n",
       "\\item 2\n",
       "\\end{enumerate*}\n"
      ],
      "text/markdown": [
       "1. 1\n",
       "2. 3\n",
       "3. 2\n",
       "\n",
       "\n"
      ],
      "text/plain": [
       "[1] 1 3 2"
      ]
     },
     "metadata": {},
     "output_type": "display_data"
    },
    {
     "data": {
      "text/html": [
       "<time datetime=\"2010-01-01\">2010-01-01</time>"
      ],
      "text/latex": [
       "2010-01-01"
      ],
      "text/markdown": [
       "2010-01-01"
      ],
      "text/plain": [
       "[1] \"2010-01-01\""
      ]
     },
     "metadata": {},
     "output_type": "display_data"
    }
   ],
   "source": [
    "parse_logical( c(\"TRUE\", \"NA\", \"FALSE\"))\n",
    "parse_integer( c(\"1\", \"3\", \"2\"))\n",
    "parse_date(c(\"2010-01-01\"))"
   ]
  },
  {
   "cell_type": "code",
   "execution_count": 19,
   "metadata": {
    "collapsed": false
   },
   "outputs": [
    {
     "data": {
      "text/html": [
       "1.23"
      ],
      "text/latex": [
       "1.23"
      ],
      "text/markdown": [
       "1.23"
      ],
      "text/plain": [
       "[1] 1.23"
      ]
     },
     "metadata": {},
     "output_type": "display_data"
    },
    {
     "data": {
      "text/html": [
       "1.23"
      ],
      "text/latex": [
       "1.23"
      ],
      "text/markdown": [
       "1.23"
      ],
      "text/plain": [
       "[1] 1.23"
      ]
     },
     "metadata": {},
     "output_type": "display_data"
    }
   ],
   "source": [
    "## localがparseのオプションとなる\n",
    "## default\n",
    "parse_double(\"1.23\")\n",
    "parse_double(\"1,23\", locale = locale(decimal_mark = \",\"))"
   ]
  },
  {
   "cell_type": "code",
   "execution_count": 20,
   "metadata": {
    "collapsed": false
   },
   "outputs": [
    {
     "data": {
      "text/plain": [
       "<locale>\n",
       "Numbers:  123,456.78\n",
       "Formats:  %AD / %AT\n",
       "Timezone: UTC\n",
       "Encoding: UTF-8\n",
       "<date_names>\n",
       "Days:   Sunday (Sun), Monday (Mon), Tuesday (Tue), Wednesday (Wed), Thursday\n",
       "        (Thu), Friday (Fri), Saturday (Sat)\n",
       "Months: January (Jan), February (Feb), March (Mar), April (Apr), May (May),\n",
       "        June (Jun), July (Jul), August (Aug), September (Sep), October\n",
       "        (Oct), November (Nov), December (Dec)\n",
       "AM/PM:  AM/PM"
      ]
     },
     "metadata": {},
     "output_type": "display_data"
    }
   ],
   "source": [
    "default_locale()"
   ]
  },
  {
   "cell_type": "code",
   "execution_count": 47,
   "metadata": {
    "collapsed": false
   },
   "outputs": [
    {
     "data": {
      "text/html": [
       "'aAbcdefg'"
      ],
      "text/latex": [
       "'aAbcdefg'"
      ],
      "text/markdown": [
       "'aAbcdefg'"
      ],
      "text/plain": [
       "[1] \"aAbcdefg\""
      ]
     },
     "metadata": {},
     "output_type": "display_data"
    }
   ],
   "source": [
    "rawToChar(charToRaw(\"aAbcdefg\"))"
   ]
  },
  {
   "cell_type": "code",
   "execution_count": 50,
   "metadata": {
    "collapsed": false
   },
   "outputs": [
    {
     "data": {
      "text/html": [
       "<table>\n",
       "<thead><tr><th scope=col>encoding</th><th scope=col>confidence</th></tr></thead>\n",
       "<tbody>\n",
       "\t<tr><td>ASCII</td><td>1    </td></tr>\n",
       "</tbody>\n",
       "</table>\n"
      ],
      "text/latex": [
       "\\begin{tabular}{r|ll}\n",
       " encoding & confidence\\\\\n",
       "\\hline\n",
       "\t ASCII & 1    \\\\\n",
       "\\end{tabular}\n"
      ],
      "text/markdown": [
       "\n",
       "encoding | confidence | \n",
       "|---|\n",
       "| ASCII | 1     | \n",
       "\n",
       "\n"
      ],
      "text/plain": [
       "  encoding confidence\n",
       "1 ASCII    1         "
      ]
     },
     "metadata": {},
     "output_type": "display_data"
    }
   ],
   "source": [
    "guess_encoding(charToRaw(\"a4\"))"
   ]
  },
  {
   "cell_type": "code",
   "execution_count": 51,
   "metadata": {
    "collapsed": false
   },
   "outputs": [
    {
     "data": {
      "text/html": [
       "<time datetime=\"2015-01-02\">2015-01-02</time>"
      ],
      "text/latex": [
       "2015-01-02"
      ],
      "text/markdown": [
       "2015-01-02"
      ],
      "text/plain": [
       "[1] \"2015-01-02\""
      ]
     },
     "metadata": {},
     "output_type": "display_data"
    }
   ],
   "source": [
    "parse_date (\"01/02/15\", \"%m/%d/%y\")"
   ]
  },
  {
   "cell_type": "code",
   "execution_count": 53,
   "metadata": {
    "collapsed": true
   },
   "outputs": [],
   "source": [
    "## write_excel_csvを利用すれば, UTF8でエクセルが読み込めるデータを出力できる\n",
    "my_iris <- iris\n",
    "my_iris$'はじめて' <- sample(c (\"kiss\", \"フルマラソン\", \"ｼﾝｶﾝｾﾝﾉｶﾀｲｱｲｽ\"), 150, replace=TRUE)\n",
    "write_excel_csv(my_iris, \"my_iris.csv\")"
   ]
  },
  {
   "cell_type": "code",
   "execution_count": null,
   "metadata": {
    "collapsed": true
   },
   "outputs": [],
   "source": []
  }
 ],
 "metadata": {
  "kernelspec": {
   "display_name": "R",
   "language": "R",
   "name": "ir"
  },
  "language_info": {
   "codemirror_mode": "r",
   "file_extension": ".r",
   "mimetype": "text/x-r-source",
   "name": "R",
   "pygments_lexer": "r",
   "version": "3.4.0"
  }
 },
 "nbformat": 4,
 "nbformat_minor": 2
}
