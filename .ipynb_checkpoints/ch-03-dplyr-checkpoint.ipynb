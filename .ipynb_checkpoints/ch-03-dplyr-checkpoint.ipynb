{
 "cells": [
  {
   "cell_type": "markdown",
   "metadata": {},
   "source": [
    "## Data Transformation with dplyr"
   ]
  },
  {
   "cell_type": "code",
   "execution_count": 2,
   "metadata": {},
   "outputs": [],
   "source": [
    "library (tidyverse)\n",
    "library (nycflights13)"
   ]
  },
  {
   "cell_type": "code",
   "execution_count": 5,
   "metadata": {},
   "outputs": [
    {
     "name": "stdout",
     "output_type": "stream",
     "text": [
      "# A tibble: 336,776 x 19\n",
      "    year month   day dep_time sched_dep_time dep_delay arr_time sched_arr_time\n",
      "   <int> <int> <int>    <int>          <int>     <dbl>    <int>          <int>\n",
      " 1  2013     1     1      517            515         2      830            819\n",
      " 2  2013     1     1      533            529         4      850            830\n",
      " 3  2013     1     1      542            540         2      923            850\n",
      " 4  2013     1     1      544            545        -1     1004           1022\n",
      " 5  2013     1     1      554            600        -6      812            837\n",
      " 6  2013     1     1      554            558        -4      740            728\n",
      " 7  2013     1     1      555            600        -5      913            854\n",
      " 8  2013     1     1      557            600        -3      709            723\n",
      " 9  2013     1     1      557            600        -3      838            846\n",
      "10  2013     1     1      558            600        -2      753            745\n",
      "# ... with 3.368e+05 more rows, and 11 more variables: arr_delay <dbl>,\n",
      "#   carrier <chr>, flight <int>, tailnum <chr>, origin <chr>, dest <chr>,\n",
      "#   air_time <dbl>, distance <dbl>, hour <dbl>, minute <dbl>, time_hour <dttm>\n"
     ]
    }
   ],
   "source": [
    "print(flights, n = 10)"
   ]
  },
  {
   "cell_type": "code",
   "execution_count": 22,
   "metadata": {},
   "outputs": [
    {
     "name": "stdout",
     "output_type": "stream",
     "text": [
      "# A tibble: 842 x 19\n",
      "    year month   day dep_time sched_dep_time dep_delay arr_time sched_arr_time\n",
      "   <int> <int> <int>    <int>          <int>     <dbl>    <int>          <int>\n",
      " 1  2013     1     1      517            515         2      830            819\n",
      " 2  2013     1     1      533            529         4      850            830\n",
      " 3  2013     1     1      542            540         2      923            850\n",
      " 4  2013     1     1      544            545        -1     1004           1022\n",
      " 5  2013     1     1      554            600        -6      812            837\n",
      " 6  2013     1     1      554            558        -4      740            728\n",
      " 7  2013     1     1      555            600        -5      913            854\n",
      " 8  2013     1     1      557            600        -3      709            723\n",
      " 9  2013     1     1      557            600        -3      838            846\n",
      "10  2013     1     1      558            600        -2      753            745\n",
      "# ... with 832 more rows, and 11 more variables: arr_delay <dbl>,\n",
      "#   carrier <chr>, flight <int>, tailnum <chr>, origin <chr>, dest <chr>,\n",
      "#   air_time <dbl>, distance <dbl>, hour <dbl>, minute <dbl>, time_hour <dttm>\n"
     ]
    }
   ],
   "source": [
    "filter ( flights, month == 1, day ==1 ) %>% print"
   ]
  },
  {
   "cell_type": "code",
   "execution_count": 9,
   "metadata": {},
   "outputs": [
    {
     "data": {
      "text/html": [
       "<pre class=language-r><code>function (x, y, tol = .Machine$double.eps^0.5) \n",
       "{\n",
       "<span style=white-space:pre-wrap>    abs(x - y) &lt; tol</span>\n",
       "}</code></pre>"
      ],
      "text/latex": [
       "\\begin{minted}{r}\n",
       "function (x, y, tol = .Machine\\$double.eps\\textasciicircum{}0.5) \n",
       "\\{\n",
       "    abs(x - y) < tol\n",
       "\\}\n",
       "\\end{minted}"
      ],
      "text/markdown": [
       "```r\n",
       "function (x, y, tol = .Machine$double.eps^0.5) \n",
       "{\n",
       "    abs(x - y) < tol\n",
       "}\n",
       "```"
      ],
      "text/plain": [
       "function (x, y, tol = .Machine$double.eps^0.5) \n",
       "{\n",
       "    abs(x - y) < tol\n",
       "}\n",
       "<environment: namespace:dplyr>"
      ]
     },
     "metadata": {},
     "output_type": "display_data"
    }
   ],
   "source": [
    "## 実数でマッチングする際は、数値誤差に注意\n",
    "## dplyrの場合にはnear関数を利用する\n",
    "near"
   ]
  },
  {
   "cell_type": "code",
   "execution_count": 12,
   "metadata": {},
   "outputs": [
    {
     "name": "stdout",
     "output_type": "stream",
     "text": [
      "# A tibble: 336,776 x 19\n",
      "   dep_delay  year month   day dep_time sched_dep_time arr_time sched_arr_time\n",
      "       <dbl> <int> <int> <int>    <int>          <int>    <int>          <int>\n",
      " 1         2  2013     1     1      517            515      830            819\n",
      " 2         4  2013     1     1      533            529      850            830\n",
      " 3         2  2013     1     1      542            540      923            850\n",
      " 4        -1  2013     1     1      544            545     1004           1022\n",
      " 5        -6  2013     1     1      554            600      812            837\n",
      " 6        -4  2013     1     1      554            558      740            728\n",
      " 7        -5  2013     1     1      555            600      913            854\n",
      " 8        -3  2013     1     1      557            600      709            723\n",
      " 9        -3  2013     1     1      557            600      838            846\n",
      "10        -2  2013     1     1      558            600      753            745\n",
      "# ... with 336,766 more rows, and 11 more variables: arr_delay <dbl>,\n",
      "#   carrier <chr>, flight <int>, tailnum <chr>, origin <chr>, dest <chr>,\n",
      "#   air_time <dbl>, distance <dbl>, hour <dbl>, minute <dbl>, time_hour <dttm>\n"
     ]
    }
   ],
   "source": [
    "## select の　everythingは列の順番を変えたい場合に便利\n",
    "select (flights, dep_delay, everything()) %>% print"
   ]
  },
  {
   "cell_type": "code",
   "execution_count": 14,
   "metadata": {},
   "outputs": [
    {
     "name": "stdout",
     "output_type": "stream",
     "text": [
      "# A tibble: 336,776 x 6\n",
      "   dep_time sched_dep_time arr_time sched_arr_time air_time           time_hour\n",
      "      <int>          <int>    <int>          <int>    <dbl>              <dttm>\n",
      " 1      517            515      830            819      227 2013-01-01 05:00:00\n",
      " 2      533            529      850            830      227 2013-01-01 05:00:00\n",
      " 3      542            540      923            850      160 2013-01-01 05:00:00\n",
      " 4      544            545     1004           1022      183 2013-01-01 05:00:00\n",
      " 5      554            600      812            837      116 2013-01-01 06:00:00\n",
      " 6      554            558      740            728      150 2013-01-01 05:00:00\n",
      " 7      555            600      913            854      158 2013-01-01 06:00:00\n",
      " 8      557            600      709            723       53 2013-01-01 06:00:00\n",
      " 9      557            600      838            846      140 2013-01-01 06:00:00\n",
      "10      558            600      753            745      138 2013-01-01 06:00:00\n",
      "# ... with 336,766 more rows\n"
     ]
    }
   ],
   "source": [
    "select (flights, contains(\"TIME\")) %>% print"
   ]
  },
  {
   "cell_type": "code",
   "execution_count": 16,
   "metadata": {},
   "outputs": [
    {
     "data": {
      "text/html": [
       "<pre class=language-r><code>function (match, ignore.case = TRUE, vars = current_vars()) \n",
       "{\n",
       "<span style=white-space:pre-wrap>    stopifnot(is.string(match), nchar(match) &gt; 0)</span>\n",
       "<span style=white-space:pre-wrap>    if (ignore.case) {</span>\n",
       "<span style=white-space:pre-wrap>        vars &lt;- tolower(vars)</span>\n",
       "<span style=white-space:pre-wrap>        match &lt;- tolower(match)</span>\n",
       "<span style=white-space:pre-wrap>    }</span>\n",
       "<span style=white-space:pre-wrap>    grep_vars(match, vars, fixed = TRUE)</span>\n",
       "}</code></pre>"
      ],
      "text/latex": [
       "\\begin{minted}{r}\n",
       "function (match, ignore.case = TRUE, vars = current\\_vars()) \n",
       "\\{\n",
       "    stopifnot(is.string(match), nchar(match) > 0)\n",
       "    if (ignore.case) \\{\n",
       "        vars <- tolower(vars)\n",
       "        match <- tolower(match)\n",
       "    \\}\n",
       "    grep\\_vars(match, vars, fixed = TRUE)\n",
       "\\}\n",
       "\\end{minted}"
      ],
      "text/markdown": [
       "```r\n",
       "function (match, ignore.case = TRUE, vars = current_vars()) \n",
       "{\n",
       "    stopifnot(is.string(match), nchar(match) > 0)\n",
       "    if (ignore.case) {\n",
       "        vars <- tolower(vars)\n",
       "        match <- tolower(match)\n",
       "    }\n",
       "    grep_vars(match, vars, fixed = TRUE)\n",
       "}\n",
       "```"
      ],
      "text/plain": [
       "function (match, ignore.case = TRUE, vars = current_vars()) \n",
       "{\n",
       "    stopifnot(is.string(match), nchar(match) > 0)\n",
       "    if (ignore.case) {\n",
       "        vars <- tolower(vars)\n",
       "        match <- tolower(match)\n",
       "    }\n",
       "    grep_vars(match, vars, fixed = TRUE)\n",
       "}\n",
       "<environment: namespace:dplyr>"
      ]
     },
     "metadata": {},
     "output_type": "display_data"
    }
   ],
   "source": [
    "contains"
   ]
  },
  {
   "cell_type": "code",
   "execution_count": 20,
   "metadata": {},
   "outputs": [
    {
     "name": "stdout",
     "output_type": "stream",
     "text": [
      "# A tibble: 336,776 x 21\n",
      "    year month   day dep_time sched_dep_time dep_delay arr_time sched_arr_time\n",
      "   <int> <int> <int>    <int>          <int>     <dbl>    <int>          <int>\n",
      " 1  2013     1     1      517            515         2      830            819\n",
      " 2  2013     1     1      533            529         4      850            830\n",
      " 3  2013     1     1      542            540         2      923            850\n",
      " 4  2013     1     1      544            545        -1     1004           1022\n",
      " 5  2013     1     1      554            600        -6      812            837\n",
      " 6  2013     1     1      554            558        -4      740            728\n",
      " 7  2013     1     1      555            600        -5      913            854\n",
      " 8  2013     1     1      557            600        -3      709            723\n",
      " 9  2013     1     1      557            600        -3      838            846\n",
      "10  2013     1     1      558            600        -2      753            745\n",
      "# ... with 336,766 more rows, and 13 more variables: arr_delay <dbl>,\n",
      "#   carrier <chr>, flight <int>, tailnum <chr>, origin <chr>, dest <chr>,\n",
      "#   air_time <dbl>, distance <dbl>, hour <dbl>, minute <dbl>, time_hour <dttm>,\n",
      "#   gain <dbl>, hours <dbl>\n",
      "# A tibble: 336,776 x 2\n",
      "    gain     hours\n",
      "   <dbl>     <dbl>\n",
      " 1     9 3.7833333\n",
      " 2    16 3.7833333\n",
      " 3    31 2.6666667\n",
      " 4   -17 3.0500000\n",
      " 5   -19 1.9333333\n",
      " 6    16 2.5000000\n",
      " 7    24 2.6333333\n",
      " 8   -11 0.8833333\n",
      " 9    -5 2.3333333\n",
      "10    10 2.3000000\n",
      "# ... with 336,766 more rows\n"
     ]
    }
   ],
   "source": [
    "## mutateは列を追加\n",
    "## transmuteは追加した列のみを残す\n",
    "mutate (flights, gain = arr_delay - dep_delay, hours = air_time / 60) %>% print\n",
    "transmute( flights, \n",
    "    gain = arr_delay - dep_delay, \n",
    "    hours = air_time / 60\n",
    ") %>% print"
   ]
  },
  {
   "cell_type": "code",
   "execution_count": 21,
   "metadata": {},
   "outputs": [
    {
     "name": "stderr",
     "output_type": "stream",
     "text": [
      "Warning message in 1:3 + 1:10:\n",
      "\" 長いオブジェクトの長さが短いオブジェクトの長さの倍数になっていません \""
     ]
    },
    {
     "data": {
      "text/html": [
       "<ol class=list-inline>\n",
       "\t<li>2</li>\n",
       "\t<li>4</li>\n",
       "\t<li>6</li>\n",
       "\t<li>5</li>\n",
       "\t<li>7</li>\n",
       "\t<li>9</li>\n",
       "\t<li>8</li>\n",
       "\t<li>10</li>\n",
       "\t<li>12</li>\n",
       "\t<li>11</li>\n",
       "</ol>\n"
      ],
      "text/latex": [
       "\\begin{enumerate*}\n",
       "\\item 2\n",
       "\\item 4\n",
       "\\item 6\n",
       "\\item 5\n",
       "\\item 7\n",
       "\\item 9\n",
       "\\item 8\n",
       "\\item 10\n",
       "\\item 12\n",
       "\\item 11\n",
       "\\end{enumerate*}\n"
      ],
      "text/markdown": [
       "1. 2\n",
       "2. 4\n",
       "3. 6\n",
       "4. 5\n",
       "5. 7\n",
       "6. 9\n",
       "7. 8\n",
       "8. 10\n",
       "9. 12\n",
       "10. 11\n",
       "\n",
       "\n"
      ],
      "text/plain": [
       " [1]  2  4  6  5  7  9  8 10 12 11"
      ]
     },
     "metadata": {},
     "output_type": "display_data"
    }
   ],
   "source": [
    "1:3 + 1:10"
   ]
  },
  {
   "cell_type": "code",
   "execution_count": 23,
   "metadata": {
    "collapsed": true
   },
   "outputs": [],
   "source": [
    "not_cancelled <-\n",
    "    flights %>%\n",
    "    filter(!is.na(dep_delay), !is.na(arr_delay))"
   ]
  },
  {
   "cell_type": "code",
   "execution_count": 25,
   "metadata": {},
   "outputs": [
    {
     "data": {},
     "metadata": {},
     "output_type": "display_data"
    },
    {
     "data": {
      "image/png": "[encoded data removed]",
      "text/plain": [
       "plot without title"
      ]
     },
     "metadata": {},
     "output_type": "display_data"
    }
   ],
   "source": [
    "delays <- \n",
    "    not_cancelled %>%\n",
    "    group_by (tailnum) %>%\n",
    "    summarise (\n",
    "        delay = mean(arr_delay)\n",
    "    )\n",
    "ggplot(data=delays, mapping=aes(x=delay)) + \n",
    "    geom_freqpoly(binwidth = 10)"
   ]
  },
  {
   "cell_type": "code",
   "execution_count": 27,
   "metadata": {},
   "outputs": [
    {
     "data": {},
     "metadata": {},
     "output_type": "display_data"
    },
    {
     "data": {
      "image/png": "[encoded data removed]",
      "text/plain": [
       "plot without title"
      ]
     },
     "metadata": {},
     "output_type": "display_data"
    }
   ],
   "source": [
    "delays <- not_cancelled %>%\n",
    "    group_by (tailnum) %>%\n",
    "    summarise(delay = mean(arr_delay, na.rm=TRUE), n = n())\n",
    "ggplot(data=delays, mapping=aes(x=n, y =delay)) + \n",
    "    geom_point(alpha = 1/3)"
   ]
  },
  {
   "cell_type": "code",
   "execution_count": 29,
   "metadata": {},
   "outputs": [
    {
     "name": "stdout",
     "output_type": "stream",
     "text": [
      "# A tibble: 104 x 2\n",
      "    dest carriers\n",
      "   <chr>    <int>\n",
      " 1   ATL        7\n",
      " 2   BOS        7\n",
      " 3   CLT        7\n",
      " 4   ORD        7\n",
      " 5   TPA        7\n",
      " 6   AUS        6\n",
      " 7   DCA        6\n",
      " 8   DTW        6\n",
      " 9   IAD        6\n",
      "10   MSP        6\n",
      "# ... with 94 more rows\n"
     ]
    }
   ],
   "source": [
    "# n_distinctでユニークなデータの数をカウントすることができる\n",
    "not_cancelled %>%\n",
    "    group_by (dest) %>%\n",
    "    summarise(carriers = n_distinct(carrier)) %>%\n",
    "    arrange(desc(carriers)) %>% print"
   ]
  },
  {
   "cell_type": "code",
   "execution_count": 32,
   "metadata": {},
   "outputs": [
    {
     "name": "stdout",
     "output_type": "stream",
     "text": [
      "# A tibble: 4,037 x 2\n",
      "   tailnum     n\n",
      "     <chr> <int>\n",
      " 1  D942DN     4\n",
      " 2  N0EGMQ   352\n",
      " 3  N10156   145\n",
      " 4  N102UW    48\n",
      " 5  N103US    46\n",
      " 6  N104UW    46\n",
      " 7  N10575   269\n",
      " 8  N105UW    45\n",
      " 9  N107US    41\n",
      "10  N108UW    60\n",
      "# ... with 4,027 more rows\n"
     ]
    }
   ],
   "source": [
    "## countはdplyrの便利な関数\n",
    "## 重み月和で演算することも可能\n",
    "not_cancelled %>%\n",
    "    count(tailnum) %>% print"
   ]
  },
  {
   "cell_type": "code",
   "execution_count": 34,
   "metadata": {},
   "outputs": [
    {
     "name": "stdout",
     "output_type": "stream",
     "text": [
      "# A tibble: 4,037 x 2\n",
      "   tailnum      n\n",
      "     <chr>  <dbl>\n",
      " 1  D942DN   3418\n",
      " 2  N0EGMQ 239143\n",
      " 3  N10156 109664\n",
      " 4  N102UW  25722\n",
      " 5  N103US  24619\n",
      " 6  N104UW  24616\n",
      " 7  N10575 139903\n",
      " 8  N105UW  23618\n",
      " 9  N107US  21677\n",
      "10  N108UW  32070\n",
      "# ... with 4,027 more rows\n"
     ]
    }
   ],
   "source": [
    "## wtとして実数を与えると、和を取ってくれる\n",
    "not_cancelled %>%\n",
    "    count(tailnum, wt = distance) %>% print"
   ]
  },
  {
   "cell_type": "code",
   "execution_count": 36,
   "metadata": {},
   "outputs": [
    {
     "data": {
      "text/html": [
       "<table>\n",
       "<thead><tr><th scope=col>tailnum</th><th scope=col>n</th><th scope=col>d</th></tr></thead>\n",
       "<tbody>\n",
       "\t<tr><td>D942DN</td><td>  4   </td><td>  3418</td></tr>\n",
       "\t<tr><td>N0EGMQ</td><td>352   </td><td>239143</td></tr>\n",
       "\t<tr><td>N10156</td><td>145   </td><td>109664</td></tr>\n",
       "\t<tr><td>N102UW</td><td> 48   </td><td> 25722</td></tr>\n",
       "\t<tr><td>N103US</td><td> 46   </td><td> 24619</td></tr>\n",
       "\t<tr><td>N104UW</td><td> 46   </td><td> 24616</td></tr>\n",
       "\t<tr><td>N10575</td><td>269   </td><td>139903</td></tr>\n",
       "\t<tr><td>N105UW</td><td> 45   </td><td> 23618</td></tr>\n",
       "\t<tr><td>N107US</td><td> 41   </td><td> 21677</td></tr>\n",
       "\t<tr><td>N108UW</td><td> 60   </td><td> 32070</td></tr>\n",
       "\t<tr><td>N109UW</td><td> 48   </td><td> 25722</td></tr>\n",
       "\t<tr><td>N110UW</td><td> 40   </td><td> 21415</td></tr>\n",
       "\t<tr><td>N11106</td><td>126   </td><td> 97433</td></tr>\n",
       "\t<tr><td>N11107</td><td>139   </td><td> 97466</td></tr>\n",
       "\t<tr><td>N11109</td><td>141   </td><td> 99634</td></tr>\n",
       "\t<tr><td>N11113</td><td>126   </td><td> 88387</td></tr>\n",
       "\t<tr><td>N11119</td><td>137   </td><td> 97933</td></tr>\n",
       "\t<tr><td>N11121</td><td>147   </td><td>104740</td></tr>\n",
       "\t<tr><td>N11127</td><td>119   </td><td> 88104</td></tr>\n",
       "\t<tr><td>N11137</td><td>107   </td><td> 77555</td></tr>\n",
       "\t<tr><td>N11140</td><td>141   </td><td>105964</td></tr>\n",
       "\t<tr><td>N11150</td><td>129   </td><td>100798</td></tr>\n",
       "\t<tr><td>N11155</td><td> 96   </td><td> 74745</td></tr>\n",
       "\t<tr><td>N11164</td><td>137   </td><td> 94129</td></tr>\n",
       "\t<tr><td>N11165</td><td>150   </td><td>112918</td></tr>\n",
       "\t<tr><td>N11176</td><td>131   </td><td> 96808</td></tr>\n",
       "\t<tr><td>N11181</td><td>120   </td><td> 84183</td></tr>\n",
       "\t<tr><td>N11184</td><td>128   </td><td> 95530</td></tr>\n",
       "\t<tr><td>N11187</td><td>126   </td><td> 92231</td></tr>\n",
       "\t<tr><td>N11189</td><td>137   </td><td> 93540</td></tr>\n",
       "\t<tr><td>...</td><td>...</td><td>...</td></tr>\n",
       "\t<tr><td>N985AT</td><td> 26   </td><td> 16868</td></tr>\n",
       "\t<tr><td>N985DL</td><td> 63   </td><td> 57022</td></tr>\n",
       "\t<tr><td>N986AT</td><td> 24   </td><td> 15709</td></tr>\n",
       "\t<tr><td>N986DL</td><td> 72   </td><td> 67807</td></tr>\n",
       "\t<tr><td>N987AT</td><td> 26   </td><td> 16527</td></tr>\n",
       "\t<tr><td>N987DL</td><td> 55   </td><td> 50758</td></tr>\n",
       "\t<tr><td>N988AT</td><td> 35   </td><td> 22996</td></tr>\n",
       "\t<tr><td>N988DL</td><td> 53   </td><td> 45960</td></tr>\n",
       "\t<tr><td>N989AT</td><td> 62   </td><td> 43473</td></tr>\n",
       "\t<tr><td>N989DL</td><td> 88   </td><td> 80111</td></tr>\n",
       "\t<tr><td>N990AT</td><td> 70   </td><td> 51182</td></tr>\n",
       "\t<tr><td>N990DL</td><td> 56   </td><td> 48330</td></tr>\n",
       "\t<tr><td>N991AT</td><td> 25   </td><td> 16495</td></tr>\n",
       "\t<tr><td>N991DL</td><td> 92   </td><td> 83069</td></tr>\n",
       "\t<tr><td>N992AT</td><td> 37   </td><td> 23449</td></tr>\n",
       "\t<tr><td>N992DL</td><td> 57   </td><td> 51457</td></tr>\n",
       "\t<tr><td>N993AT</td><td> 47   </td><td> 28514</td></tr>\n",
       "\t<tr><td>N993DL</td><td> 53   </td><td> 46812</td></tr>\n",
       "\t<tr><td>N994AT</td><td> 31   </td><td> 21653</td></tr>\n",
       "\t<tr><td>N994DL</td><td> 61   </td><td> 54094</td></tr>\n",
       "\t<tr><td>N995AT</td><td> 17   </td><td> 11081</td></tr>\n",
       "\t<tr><td>N995DL</td><td> 57   </td><td> 50364</td></tr>\n",
       "\t<tr><td>N996AT</td><td> 26   </td><td> 17987</td></tr>\n",
       "\t<tr><td>N996DL</td><td>101   </td><td> 91023</td></tr>\n",
       "\t<tr><td>N997AT</td><td> 43   </td><td> 29116</td></tr>\n",
       "\t<tr><td>N997DL</td><td> 62   </td><td> 53719</td></tr>\n",
       "\t<tr><td>N998AT</td><td> 25   </td><td> 14670</td></tr>\n",
       "\t<tr><td>N998DL</td><td> 76   </td><td> 64956</td></tr>\n",
       "\t<tr><td>N999DN</td><td> 61   </td><td> 54623</td></tr>\n",
       "\t<tr><td>N9EAMQ</td><td>238   </td><td>160862</td></tr>\n",
       "</tbody>\n",
       "</table>\n"
      ],
      "text/latex": [
       "\\begin{tabular}{r|lll}\n",
       " tailnum & n & d\\\\\n",
       "\\hline\n",
       "\t D942DN &   4    &   3418\\\\\n",
       "\t N0EGMQ & 352    & 239143\\\\\n",
       "\t N10156 & 145    & 109664\\\\\n",
       "\t N102UW &  48    &  25722\\\\\n",
       "\t N103US &  46    &  24619\\\\\n",
       "\t N104UW &  46    &  24616\\\\\n",
       "\t N10575 & 269    & 139903\\\\\n",
       "\t N105UW &  45    &  23618\\\\\n",
       "\t N107US &  41    &  21677\\\\\n",
       "\t N108UW &  60    &  32070\\\\\n",
       "\t N109UW &  48    &  25722\\\\\n",
       "\t N110UW &  40    &  21415\\\\\n",
       "\t N11106 & 126    &  97433\\\\\n",
       "\t N11107 & 139    &  97466\\\\\n",
       "\t N11109 & 141    &  99634\\\\\n",
       "\t N11113 & 126    &  88387\\\\\n",
       "\t N11119 & 137    &  97933\\\\\n",
       "\t N11121 & 147    & 104740\\\\\n",
       "\t N11127 & 119    &  88104\\\\\n",
       "\t N11137 & 107    &  77555\\\\\n",
       "\t N11140 & 141    & 105964\\\\\n",
       "\t N11150 & 129    & 100798\\\\\n",
       "\t N11155 &  96    &  74745\\\\\n",
       "\t N11164 & 137    &  94129\\\\\n",
       "\t N11165 & 150    & 112918\\\\\n",
       "\t N11176 & 131    &  96808\\\\\n",
       "\t N11181 & 120    &  84183\\\\\n",
       "\t N11184 & 128    &  95530\\\\\n",
       "\t N11187 & 126    &  92231\\\\\n",
       "\t N11189 & 137    &  93540\\\\\n",
       "\t ... & ... & ...\\\\\n",
       "\t N985AT &  26    &  16868\\\\\n",
       "\t N985DL &  63    &  57022\\\\\n",
       "\t N986AT &  24    &  15709\\\\\n",
       "\t N986DL &  72    &  67807\\\\\n",
       "\t N987AT &  26    &  16527\\\\\n",
       "\t N987DL &  55    &  50758\\\\\n",
       "\t N988AT &  35    &  22996\\\\\n",
       "\t N988DL &  53    &  45960\\\\\n",
       "\t N989AT &  62    &  43473\\\\\n",
       "\t N989DL &  88    &  80111\\\\\n",
       "\t N990AT &  70    &  51182\\\\\n",
       "\t N990DL &  56    &  48330\\\\\n",
       "\t N991AT &  25    &  16495\\\\\n",
       "\t N991DL &  92    &  83069\\\\\n",
       "\t N992AT &  37    &  23449\\\\\n",
       "\t N992DL &  57    &  51457\\\\\n",
       "\t N993AT &  47    &  28514\\\\\n",
       "\t N993DL &  53    &  46812\\\\\n",
       "\t N994AT &  31    &  21653\\\\\n",
       "\t N994DL &  61    &  54094\\\\\n",
       "\t N995AT &  17    &  11081\\\\\n",
       "\t N995DL &  57    &  50364\\\\\n",
       "\t N996AT &  26    &  17987\\\\\n",
       "\t N996DL & 101    &  91023\\\\\n",
       "\t N997AT &  43    &  29116\\\\\n",
       "\t N997DL &  62    &  53719\\\\\n",
       "\t N998AT &  25    &  14670\\\\\n",
       "\t N998DL &  76    &  64956\\\\\n",
       "\t N999DN &  61    &  54623\\\\\n",
       "\t N9EAMQ & 238    & 160862\\\\\n",
       "\\end{tabular}\n"
      ],
      "text/markdown": [
       "\n",
       "tailnum | n | d | \n",
       "|---|---|---|---|---|---|---|---|---|---|---|---|---|---|---|---|---|---|---|---|---|---|---|---|---|---|---|---|---|---|---|---|---|---|---|---|---|---|---|---|---|---|---|---|---|---|---|---|---|---|---|---|---|---|---|---|---|---|---|---|---|\n",
       "| D942DN |   4    |   3418 | \n",
       "| N0EGMQ | 352    | 239143 | \n",
       "| N10156 | 145    | 109664 | \n",
       "| N102UW |  48    |  25722 | \n",
       "| N103US |  46    |  24619 | \n",
       "| N104UW |  46    |  24616 | \n",
       "| N10575 | 269    | 139903 | \n",
       "| N105UW |  45    |  23618 | \n",
       "| N107US |  41    |  21677 | \n",
       "| N108UW |  60    |  32070 | \n",
       "| N109UW |  48    |  25722 | \n",
       "| N110UW |  40    |  21415 | \n",
       "| N11106 | 126    |  97433 | \n",
       "| N11107 | 139    |  97466 | \n",
       "| N11109 | 141    |  99634 | \n",
       "| N11113 | 126    |  88387 | \n",
       "| N11119 | 137    |  97933 | \n",
       "| N11121 | 147    | 104740 | \n",
       "| N11127 | 119    |  88104 | \n",
       "| N11137 | 107    |  77555 | \n",
       "| N11140 | 141    | 105964 | \n",
       "| N11150 | 129    | 100798 | \n",
       "| N11155 |  96    |  74745 | \n",
       "| N11164 | 137    |  94129 | \n",
       "| N11165 | 150    | 112918 | \n",
       "| N11176 | 131    |  96808 | \n",
       "| N11181 | 120    |  84183 | \n",
       "| N11184 | 128    |  95530 | \n",
       "| N11187 | 126    |  92231 | \n",
       "| N11189 | 137    |  93540 | \n",
       "| ... | ... | ... | \n",
       "| N985AT |  26    |  16868 | \n",
       "| N985DL |  63    |  57022 | \n",
       "| N986AT |  24    |  15709 | \n",
       "| N986DL |  72    |  67807 | \n",
       "| N987AT |  26    |  16527 | \n",
       "| N987DL |  55    |  50758 | \n",
       "| N988AT |  35    |  22996 | \n",
       "| N988DL |  53    |  45960 | \n",
       "| N989AT |  62    |  43473 | \n",
       "| N989DL |  88    |  80111 | \n",
       "| N990AT |  70    |  51182 | \n",
       "| N990DL |  56    |  48330 | \n",
       "| N991AT |  25    |  16495 | \n",
       "| N991DL |  92    |  83069 | \n",
       "| N992AT |  37    |  23449 | \n",
       "| N992DL |  57    |  51457 | \n",
       "| N993AT |  47    |  28514 | \n",
       "| N993DL |  53    |  46812 | \n",
       "| N994AT |  31    |  21653 | \n",
       "| N994DL |  61    |  54094 | \n",
       "| N995AT |  17    |  11081 | \n",
       "| N995DL |  57    |  50364 | \n",
       "| N996AT |  26    |  17987 | \n",
       "| N996DL | 101    |  91023 | \n",
       "| N997AT |  43    |  29116 | \n",
       "| N997DL |  62    |  53719 | \n",
       "| N998AT |  25    |  14670 | \n",
       "| N998DL |  76    |  64956 | \n",
       "| N999DN |  61    |  54623 | \n",
       "| N9EAMQ | 238    | 160862 | \n",
       "\n",
       "\n"
      ],
      "text/plain": [
       "     tailnum n   d     \n",
       "1    D942DN    4   3418\n",
       "2    N0EGMQ  352 239143\n",
       "3    N10156  145 109664\n",
       "4    N102UW   48  25722\n",
       "5    N103US   46  24619\n",
       "6    N104UW   46  24616\n",
       "7    N10575  269 139903\n",
       "8    N105UW   45  23618\n",
       "9    N107US   41  21677\n",
       "10   N108UW   60  32070\n",
       "11   N109UW   48  25722\n",
       "12   N110UW   40  21415\n",
       "13   N11106  126  97433\n",
       "14   N11107  139  97466\n",
       "15   N11109  141  99634\n",
       "16   N11113  126  88387\n",
       "17   N11119  137  97933\n",
       "18   N11121  147 104740\n",
       "19   N11127  119  88104\n",
       "20   N11137  107  77555\n",
       "21   N11140  141 105964\n",
       "22   N11150  129 100798\n",
       "23   N11155   96  74745\n",
       "24   N11164  137  94129\n",
       "25   N11165  150 112918\n",
       "26   N11176  131  96808\n",
       "27   N11181  120  84183\n",
       "28   N11184  128  95530\n",
       "29   N11187  126  92231\n",
       "30   N11189  137  93540\n",
       "...  ...     ... ...   \n",
       "4008 N985AT   26  16868\n",
       "4009 N985DL   63  57022\n",
       "4010 N986AT   24  15709\n",
       "4011 N986DL   72  67807\n",
       "4012 N987AT   26  16527\n",
       "4013 N987DL   55  50758\n",
       "4014 N988AT   35  22996\n",
       "4015 N988DL   53  45960\n",
       "4016 N989AT   62  43473\n",
       "4017 N989DL   88  80111\n",
       "4018 N990AT   70  51182\n",
       "4019 N990DL   56  48330\n",
       "4020 N991AT   25  16495\n",
       "4021 N991DL   92  83069\n",
       "4022 N992AT   37  23449\n",
       "4023 N992DL   57  51457\n",
       "4024 N993AT   47  28514\n",
       "4025 N993DL   53  46812\n",
       "4026 N994AT   31  21653\n",
       "4027 N994DL   61  54094\n",
       "4028 N995AT   17  11081\n",
       "4029 N995DL   57  50364\n",
       "4030 N996AT   26  17987\n",
       "4031 N996DL  101  91023\n",
       "4032 N997AT   43  29116\n",
       "4033 N997DL   62  53719\n",
       "4034 N998AT   25  14670\n",
       "4035 N998DL   76  64956\n",
       "4036 N999DN   61  54623\n",
       "4037 N9EAMQ  238 160862"
      ]
     },
     "metadata": {},
     "output_type": "display_data"
    }
   ],
   "source": [
    "not_cancelled %>%\n",
    "    group_by (tailnum) %>% \n",
    "    summarise (n = n(), d = sum(distance))"
   ]
  },
  {
   "cell_type": "code",
   "execution_count": null,
   "metadata": {
    "collapsed": true
   },
   "outputs": [],
   "source": []
  }
 ],
 "metadata": {
  "kernelspec": {
   "display_name": "R",
   "language": "R",
   "name": "ir"
  },
  "language_info": {
   "codemirror_mode": "r",
   "file_extension": ".r",
   "mimetype": "text/x-r-source",
   "name": "R",
   "pygments_lexer": "r",
   "version": "3.4.0"
  }
 },
 "nbformat": 4,
 "nbformat_minor": 2
}
