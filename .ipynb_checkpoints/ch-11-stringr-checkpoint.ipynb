{
 "cells": [
  {
   "cell_type": "markdown",
   "metadata": {},
   "source": [
    "## Strings with stringr"
   ]
  },
  {
   "cell_type": "code",
   "execution_count": 2,
   "metadata": {
    "collapsed": false
   },
   "outputs": [
    {
     "name": "stderr",
     "output_type": "stream",
     "text": [
      "Loading tidyverse: ggplot2\n",
      "Loading tidyverse: tibble\n",
      "Loading tidyverse: tidyr\n",
      "Loading tidyverse: readr\n",
      "Loading tidyverse: purrr\n",
      "Loading tidyverse: dplyr\n",
      "Conflicts with tidy packages ---------------------------------------------------\n",
      "filter(): dplyr, stats\n",
      "lag():    dplyr, stats\n"
     ]
    }
   ],
   "source": [
    "library (tidyverse)\n",
    "library (stringr)"
   ]
  },
  {
   "cell_type": "markdown",
   "metadata": {
    "collapsed": true
   },
   "source": [
    "### with NA\n",
    "\n",
    "stringrはNAをNAとして扱う. NA値の場合に文字列として利用したい場合には, つぎのようにする. \n",
    "\n"
   ]
  },
  {
   "cell_type": "code",
   "execution_count": 3,
   "metadata": {
    "collapsed": false
   },
   "outputs": [
    {
     "data": {
      "text/html": [
       "<ol class=list-inline>\n",
       "\t<li>'|-ABC-|'</li>\n",
       "\t<li>NA</li>\n",
       "</ol>\n"
      ],
      "text/latex": [
       "\\begin{enumerate*}\n",
       "\\item '\\textbar{}-ABC-\\textbar{}'\n",
       "\\item NA\n",
       "\\end{enumerate*}\n"
      ],
      "text/markdown": [
       "1. '|-ABC-|'\n",
       "2. NA\n",
       "\n",
       "\n"
      ],
      "text/plain": [
       "[1] \"|-ABC-|\" NA       "
      ]
     },
     "metadata": {},
     "output_type": "display_data"
    },
    {
     "data": {
      "text/html": [
       "<ol class=list-inline>\n",
       "\t<li>'|-ABC-|'</li>\n",
       "\t<li>'|-NA-|'</li>\n",
       "</ol>\n"
      ],
      "text/latex": [
       "\\begin{enumerate*}\n",
       "\\item '\\textbar{}-ABC-\\textbar{}'\n",
       "\\item '\\textbar{}-NA-\\textbar{}'\n",
       "\\end{enumerate*}\n"
      ],
      "text/markdown": [
       "1. '|-ABC-|'\n",
       "2. '|-NA-|'\n",
       "\n",
       "\n"
      ],
      "text/plain": [
       "[1] \"|-ABC-|\" \"|-NA-|\" "
      ]
     },
     "metadata": {},
     "output_type": "display_data"
    }
   ],
   "source": [
    "x <- c (\"ABC\", NA_character_)\n",
    "str_c (\"|-\", x, \"-|\")\n",
    "str_c (\"|-\", str_replace_na(x), \"-|\")\n"
   ]
  },
  {
   "cell_type": "markdown",
   "metadata": {},
   "source": [
    "### locale\n",
    "\n"
   ]
  },
  {
   "cell_type": "code",
   "execution_count": 6,
   "metadata": {
    "collapsed": false
   },
   "outputs": [
    {
     "data": {
      "text/html": [
       "<ol class=list-inline>\n",
       "\t<li>'apple'</li>\n",
       "\t<li>'banana'</li>\n",
       "\t<li>'eggplant'</li>\n",
       "\t<li>'O157'</li>\n",
       "\t<li>'みかん'</li>\n",
       "</ol>\n"
      ],
      "text/latex": [
       "\\begin{enumerate*}\n",
       "\\item 'apple'\n",
       "\\item 'banana'\n",
       "\\item 'eggplant'\n",
       "\\item 'O157'\n",
       "\\item 'みかん'\n",
       "\\end{enumerate*}\n"
      ],
      "text/markdown": [
       "1. 'apple'\n",
       "2. 'banana'\n",
       "3. 'eggplant'\n",
       "4. 'O157'\n",
       "5. 'みかん'\n",
       "\n",
       "\n"
      ],
      "text/plain": [
       "[1] \"apple\"    \"banana\"   \"eggplant\" \"O157\"     \"みかん\"  "
      ]
     },
     "metadata": {},
     "output_type": "display_data"
    },
    {
     "data": {
      "text/html": [
       "<ol class=list-inline>\n",
       "\t<li>'apple'</li>\n",
       "\t<li>'eggplant'</li>\n",
       "\t<li>'O157'</li>\n",
       "\t<li>'banana'</li>\n",
       "\t<li>'みかん'</li>\n",
       "</ol>\n"
      ],
      "text/latex": [
       "\\begin{enumerate*}\n",
       "\\item 'apple'\n",
       "\\item 'eggplant'\n",
       "\\item 'O157'\n",
       "\\item 'banana'\n",
       "\\item 'みかん'\n",
       "\\end{enumerate*}\n"
      ],
      "text/markdown": [
       "1. 'apple'\n",
       "2. 'eggplant'\n",
       "3. 'O157'\n",
       "4. 'banana'\n",
       "5. 'みかん'\n",
       "\n",
       "\n"
      ],
      "text/plain": [
       "[1] \"apple\"    \"eggplant\" \"O157\"     \"banana\"   \"みかん\"  "
      ]
     },
     "metadata": {},
     "output_type": "display_data"
    },
    {
     "data": {
      "text/html": [
       "<ol class=list-inline>\n",
       "\t<li>'apple'</li>\n",
       "\t<li>'banana'</li>\n",
       "\t<li>'eggplant'</li>\n",
       "\t<li>'O157'</li>\n",
       "\t<li>'みかん'</li>\n",
       "</ol>\n"
      ],
      "text/latex": [
       "\\begin{enumerate*}\n",
       "\\item 'apple'\n",
       "\\item 'banana'\n",
       "\\item 'eggplant'\n",
       "\\item 'O157'\n",
       "\\item 'みかん'\n",
       "\\end{enumerate*}\n"
      ],
      "text/markdown": [
       "1. 'apple'\n",
       "2. 'banana'\n",
       "3. 'eggplant'\n",
       "4. 'O157'\n",
       "5. 'みかん'\n",
       "\n",
       "\n"
      ],
      "text/plain": [
       "[1] \"apple\"    \"banana\"   \"eggplant\" \"O157\"     \"みかん\"  "
      ]
     },
     "metadata": {},
     "output_type": "display_data"
    }
   ],
   "source": [
    "x <- c (\"apple\", \"banana\", \"eggplant\", \"みかん\", \"O157\")\n",
    "str_sort (x, locale=\"en\")\n",
    "str_sort (x, locale=\"haw\")\n",
    "str_sort (x, locale=\"jP\")"
   ]
  },
  {
   "cell_type": "code",
   "execution_count": null,
   "metadata": {
    "collapsed": true
   },
   "outputs": [],
   "source": []
  }
 ],
 "metadata": {
  "kernelspec": {
   "display_name": "R",
   "language": "R",
   "name": "ir"
  },
  "language_info": {
   "codemirror_mode": "r",
   "file_extension": ".r",
   "mimetype": "text/x-r-source",
   "name": "R",
   "pygments_lexer": "r",
   "version": "3.4.0"
  }
 },
 "nbformat": 4,
 "nbformat_minor": 2
}
