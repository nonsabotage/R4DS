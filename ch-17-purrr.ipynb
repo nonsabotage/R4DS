{
 "cells": [
  {
   "cell_type": "markdown",
   "metadata": {},
   "source": [
    "## Iteration with purrr\n",
    "\n",
    "よく使うループ処理はそれ自体が関数となっている. \n",
    "関数プログラミングを用いることで, ループ処理を隠蔽しよう. \n"
   ]
  },
  {
   "cell_type": "code",
   "execution_count": 1,
   "metadata": {
    "collapsed": false
   },
   "outputs": [
    {
     "name": "stderr",
     "output_type": "stream",
     "text": [
      "Loading tidyverse: ggplot2\n",
      "Loading tidyverse: tibble\n",
      "Loading tidyverse: tidyr\n",
      "Loading tidyverse: readr\n",
      "Loading tidyverse: purrr\n",
      "Loading tidyverse: dplyr\n",
      "Conflicts with tidy packages ---------------------------------------------------\n",
      "filter(): dplyr, stats\n",
      "lag():    dplyr, stats\n"
     ]
    }
   ],
   "source": [
    "library (tidyverse)"
   ]
  },
  {
   "cell_type": "markdown",
   "metadata": {},
   "source": [
    "### For Loop\n",
    "\n",
    "普通のループは次のような処理となる. "
   ]
  },
  {
   "cell_type": "code",
   "execution_count": 9,
   "metadata": {
    "collapsed": false
   },
   "outputs": [
    {
     "data": {
      "text/html": [
       "<ol class=list-inline>\n",
       "\t<li>0.870493711799462</li>\n",
       "\t<li>2.02652258854606</li>\n",
       "\t<li>2.94863154588318</li>\n",
       "\t<li>3.66739803745655</li>\n",
       "</ol>\n"
      ],
      "text/latex": [
       "\\begin{enumerate*}\n",
       "\\item 0.870493711799462\n",
       "\\item 2.02652258854606\n",
       "\\item 2.94863154588318\n",
       "\\item 3.66739803745655\n",
       "\\end{enumerate*}\n"
      ],
      "text/markdown": [
       "1. 0.870493711799462\n",
       "2. 2.02652258854606\n",
       "3. 2.94863154588318\n",
       "4. 3.66739803745655\n",
       "\n",
       "\n"
      ],
      "text/plain": [
       "[1] 0.8704937 2.0265226 2.9486315 3.6673980"
      ]
     },
     "metadata": {},
     "output_type": "display_data"
    }
   ],
   "source": [
    "# set data\n",
    "df <- lapply(1:4, rnorm, n=50) %>%\n",
    "      set_names(letters[1:4]) %>%\n",
    "      as_tibble()\n",
    "\n",
    "# calc\n",
    "output <- vector(\"double\", ncol(df))\n",
    "for (ii in seq_along(df)) {\n",
    "    output[[ii]] <- median (df[[ii]])\n",
    "}\n",
    "output"
   ]
  },
  {
   "cell_type": "markdown",
   "metadata": {},
   "source": [
    "### purrr\n",
    "##### shortcut"
   ]
  },
  {
   "cell_type": "code",
   "execution_count": 13,
   "metadata": {
    "collapsed": false
   },
   "outputs": [
    {
     "data": {
      "text/plain": [
       "$`4`\n",
       "\n",
       "Call:\n",
       "lm(formula = mpg ~ wt, data = .)\n",
       "\n",
       "Coefficients:\n",
       "(Intercept)           wt  \n",
       "     39.571       -5.647  \n",
       "\n",
       "\n",
       "$`6`\n",
       "\n",
       "Call:\n",
       "lm(formula = mpg ~ wt, data = .)\n",
       "\n",
       "Coefficients:\n",
       "(Intercept)           wt  \n",
       "      28.41        -2.78  \n",
       "\n",
       "\n",
       "$`8`\n",
       "\n",
       "Call:\n",
       "lm(formula = mpg ~ wt, data = .)\n",
       "\n",
       "Coefficients:\n",
       "(Intercept)           wt  \n",
       "     23.868       -2.192  \n",
       "\n"
      ]
     },
     "metadata": {},
     "output_type": "display_data"
    }
   ],
   "source": [
    "# 無名関数はチルダ等を駆使して書き換えることが可能である\n",
    "models <- \n",
    "    mtcars %>%\n",
    "    split(.$cyl) %>%\n",
    "    map(~lm (mpg ~ wt, data=.))\n",
    "models"
   ]
  },
  {
   "cell_type": "code",
   "execution_count": 14,
   "metadata": {
    "collapsed": false
   },
   "outputs": [
    {
     "data": {
      "text/html": [
       "<dl>\n",
       "\t<dt>$`4`</dt>\n",
       "\t\t<dd>0.50863259632314</dd>\n",
       "\t<dt>$`6`</dt>\n",
       "\t\t<dd>0.464510150550548</dd>\n",
       "\t<dt>$`8`</dt>\n",
       "\t\t<dd>0.422965536496111</dd>\n",
       "</dl>\n"
      ],
      "text/latex": [
       "\\begin{description}\n",
       "\\item[\\$`4`] 0.50863259632314\n",
       "\\item[\\$`6`] 0.464510150550548\n",
       "\\item[\\$`8`] 0.422965536496111\n",
       "\\end{description}\n"
      ],
      "text/markdown": [
       "$`4`\n",
       ":   0.50863259632314\n",
       "$`6`\n",
       ":   0.464510150550548\n",
       "$`8`\n",
       ":   0.422965536496111\n",
       "\n",
       "\n"
      ],
      "text/plain": [
       "$`4`\n",
       "[1] 0.5086326\n",
       "\n",
       "$`6`\n",
       "[1] 0.4645102\n",
       "\n",
       "$`8`\n",
       "[1] 0.4229655\n"
      ]
     },
     "metadata": {},
     "output_type": "display_data"
    }
   ],
   "source": [
    "# 属性名を与えることで, 属性を取り出すことも可能のである\n",
    "models %>%\n",
    "    map(summary) %>%\n",
    "    map(\"r.squared\")"
   ]
  },
  {
   "cell_type": "code",
   "execution_count": 26,
   "metadata": {
    "collapsed": false
   },
   "outputs": [
    {
     "data": {
      "text/html": [
       "<ol>\n",
       "\t<li><ol>\n",
       "\t<li>2</li>\n",
       "</ol>\n",
       "</li>\n",
       "\t<li><ol>\n",
       "\t<li>5</li>\n",
       "</ol>\n",
       "</li>\n",
       "\t<li><ol>\n",
       "\t<li>8</li>\n",
       "</ol>\n",
       "</li>\n",
       "</ol>\n"
      ],
      "text/latex": [
       "\\begin{enumerate}\n",
       "\\item \\begin{enumerate}\n",
       "\\item 2\n",
       "\\end{enumerate}\n",
       "\n",
       "\\item \\begin{enumerate}\n",
       "\\item 5\n",
       "\\end{enumerate}\n",
       "\n",
       "\\item \\begin{enumerate}\n",
       "\\item 8\n",
       "\\end{enumerate}\n",
       "\n",
       "\\end{enumerate}\n"
      ],
      "text/markdown": [
       "1. 1. 2\n",
       "\n",
       "\n",
       "\n",
       "2. 1. 5\n",
       "\n",
       "\n",
       "\n",
       "3. 1. 8\n",
       "\n",
       "\n",
       "\n",
       "\n",
       "\n"
      ],
      "text/plain": [
       "[[1]]\n",
       "[[1]][[1]]\n",
       "[1] 2\n",
       "\n",
       "\n",
       "[[2]]\n",
       "[[2]][[1]]\n",
       "[1] 5\n",
       "\n",
       "\n",
       "[[3]]\n",
       "[[3]][[1]]\n",
       "[1] 8\n",
       "\n"
      ]
     },
     "metadata": {},
     "output_type": "display_data"
    }
   ],
   "source": [
    "# 要素位置を与えることでも抽出が可能である\n",
    "x <- list(list (1:3), list (4:6), list (7:9))\n",
    "x %>% map( ~ map(., 2))"
   ]
  },
  {
   "cell_type": "markdown",
   "metadata": {},
   "source": [
    "### Dealing with Failure\n",
    "\n",
    "大量のループ処理が, 一カ所の失敗でなにも返されないのは衝撃的むかつく. \n",
    "そこで`safely()`関数を利用して関数を修正することを提案する.　\n",
    "safelyは次の二つを返す. \n",
    "\n",
    "- result: 演算結果. エラーがあった場合にはそこをNULLとして返す\n",
    "- error: エラーオブジェクト. resultの反対で成功している場合にはNULLとなる\n",
    "\n",
    "\n"
   ]
  },
  {
   "cell_type": "code",
   "execution_count": 31,
   "metadata": {
    "collapsed": false
   },
   "outputs": [
    {
     "name": "stderr",
     "output_type": "stream",
     "text": [
      "Warning message in .f(...):\n",
      "\" 計算結果が NaN になりました \""
     ]
    },
    {
     "name": "stdout",
     "output_type": "stream",
     "text": [
      "$result\n",
      "[1]       NaN       NaN      -Inf 0.0000000 0.6931472\n",
      "\n",
      "$error\n",
      "NULL\n",
      "\n"
     ]
    }
   ],
   "source": [
    "x <- -2:2\n",
    "safe_log <- safely(log)\n",
    "y <- safe_log(x) # 警告が出るが,　yには演算結果が取得できている. \n",
    "print (y)"
   ]
  },
  {
   "cell_type": "code",
   "execution_count": 34,
   "metadata": {
    "collapsed": false
   },
   "outputs": [
    {
     "name": "stderr",
     "output_type": "stream",
     "text": [
      "Warning message in .f(...):\n",
      "\" 計算結果が NaN になりました \"Warning message in .f(...):\n",
      "\" 計算結果が NaN になりました \""
     ]
    },
    {
     "data": {
      "text/html": [
       "<ol>\n",
       "\t<li>NaN</li>\n",
       "\t<li>NaN</li>\n",
       "\t<li>-Inf</li>\n",
       "\t<li>0</li>\n",
       "\t<li>0.693147180559945</li>\n",
       "</ol>\n"
      ],
      "text/latex": [
       "\\begin{enumerate}\n",
       "\\item NaN\n",
       "\\item NaN\n",
       "\\item -Inf\n",
       "\\item 0\n",
       "\\item 0.693147180559945\n",
       "\\end{enumerate}\n"
      ],
      "text/markdown": [
       "1. NaN\n",
       "2. NaN\n",
       "3. -Inf\n",
       "4. 0\n",
       "5. 0.693147180559945\n",
       "\n",
       "\n"
      ],
      "text/plain": [
       "[[1]]\n",
       "[1] NaN\n",
       "\n",
       "[[2]]\n",
       "[1] NaN\n",
       "\n",
       "[[3]]\n",
       "[1] -Inf\n",
       "\n",
       "[[4]]\n",
       "[1] 0\n",
       "\n",
       "[[5]]\n",
       "[1] 0.6931472\n"
      ]
     },
     "metadata": {},
     "output_type": "display_data"
    },
    {
     "data": {
      "text/html": [
       "<ol>\n",
       "\t<li><dl>\n",
       "\t<dt>$result</dt>\n",
       "\t\t<dd>NaN</dd>\n",
       "\t<dt>$output</dt>\n",
       "\t\t<dd>''</dd>\n",
       "\t<dt>$warnings</dt>\n",
       "\t\t<dd>' 計算結果が NaN になりました '</dd>\n",
       "\t<dt>$messages</dt>\n",
       "\t\t<dd></dd>\n",
       "</dl>\n",
       "</li>\n",
       "\t<li><dl>\n",
       "\t<dt>$result</dt>\n",
       "\t\t<dd>NaN</dd>\n",
       "\t<dt>$output</dt>\n",
       "\t\t<dd>''</dd>\n",
       "\t<dt>$warnings</dt>\n",
       "\t\t<dd>' 計算結果が NaN になりました '</dd>\n",
       "\t<dt>$messages</dt>\n",
       "\t\t<dd></dd>\n",
       "</dl>\n",
       "</li>\n",
       "\t<li><dl>\n",
       "\t<dt>$result</dt>\n",
       "\t\t<dd>-Inf</dd>\n",
       "\t<dt>$output</dt>\n",
       "\t\t<dd>''</dd>\n",
       "\t<dt>$warnings</dt>\n",
       "\t\t<dd></dd>\n",
       "\t<dt>$messages</dt>\n",
       "\t\t<dd></dd>\n",
       "</dl>\n",
       "</li>\n",
       "\t<li><dl>\n",
       "\t<dt>$result</dt>\n",
       "\t\t<dd>0</dd>\n",
       "\t<dt>$output</dt>\n",
       "\t\t<dd>''</dd>\n",
       "\t<dt>$warnings</dt>\n",
       "\t\t<dd></dd>\n",
       "\t<dt>$messages</dt>\n",
       "\t\t<dd></dd>\n",
       "</dl>\n",
       "</li>\n",
       "\t<li><dl>\n",
       "\t<dt>$result</dt>\n",
       "\t\t<dd>0.693147180559945</dd>\n",
       "\t<dt>$output</dt>\n",
       "\t\t<dd>''</dd>\n",
       "\t<dt>$warnings</dt>\n",
       "\t\t<dd></dd>\n",
       "\t<dt>$messages</dt>\n",
       "\t\t<dd></dd>\n",
       "</dl>\n",
       "</li>\n",
       "</ol>\n"
      ],
      "text/latex": [
       "\\begin{enumerate}\n",
       "\\item \\begin{description}\n",
       "\\item[\\$result] NaN\n",
       "\\item[\\$output] ''\n",
       "\\item[\\$warnings] ' 計算結果が NaN になりました '\n",
       "\\item[\\$messages] \n",
       "\\end{description}\n",
       "\n",
       "\\item \\begin{description}\n",
       "\\item[\\$result] NaN\n",
       "\\item[\\$output] ''\n",
       "\\item[\\$warnings] ' 計算結果が NaN になりました '\n",
       "\\item[\\$messages] \n",
       "\\end{description}\n",
       "\n",
       "\\item \\begin{description}\n",
       "\\item[\\$result] -Inf\n",
       "\\item[\\$output] ''\n",
       "\\item[\\$warnings] \n",
       "\\item[\\$messages] \n",
       "\\end{description}\n",
       "\n",
       "\\item \\begin{description}\n",
       "\\item[\\$result] 0\n",
       "\\item[\\$output] ''\n",
       "\\item[\\$warnings] \n",
       "\\item[\\$messages] \n",
       "\\end{description}\n",
       "\n",
       "\\item \\begin{description}\n",
       "\\item[\\$result] 0.693147180559945\n",
       "\\item[\\$output] ''\n",
       "\\item[\\$warnings] \n",
       "\\item[\\$messages] \n",
       "\\end{description}\n",
       "\n",
       "\\end{enumerate}\n"
      ],
      "text/markdown": [
       "1. $result\n",
       ":   NaN\n",
       "$output\n",
       ":   ''\n",
       "$warnings\n",
       ":   ' 計算結果が NaN になりました '\n",
       "$messages\n",
       ":   \n",
       "\n",
       "\n",
       "\n",
       "2. $result\n",
       ":   NaN\n",
       "$output\n",
       ":   ''\n",
       "$warnings\n",
       ":   ' 計算結果が NaN になりました '\n",
       "$messages\n",
       ":   \n",
       "\n",
       "\n",
       "\n",
       "3. $result\n",
       ":   -Inf\n",
       "$output\n",
       ":   ''\n",
       "$warnings\n",
       ":   \n",
       "$messages\n",
       ":   \n",
       "\n",
       "\n",
       "\n",
       "4. $result\n",
       ":   0\n",
       "$output\n",
       ":   ''\n",
       "$warnings\n",
       ":   \n",
       "$messages\n",
       ":   \n",
       "\n",
       "\n",
       "\n",
       "5. $result\n",
       ":   0.693147180559945\n",
       "$output\n",
       ":   ''\n",
       "$warnings\n",
       ":   \n",
       "$messages\n",
       ":   \n",
       "\n",
       "\n",
       "\n",
       "\n",
       "\n"
      ],
      "text/plain": [
       "[[1]]\n",
       "[[1]]$result\n",
       "[1] NaN\n",
       "\n",
       "[[1]]$output\n",
       "[1] \"\"\n",
       "\n",
       "[[1]]$warnings\n",
       "[1] \" 計算結果が NaN になりました \"\n",
       "\n",
       "[[1]]$messages\n",
       "character(0)\n",
       "\n",
       "\n",
       "[[2]]\n",
       "[[2]]$result\n",
       "[1] NaN\n",
       "\n",
       "[[2]]$output\n",
       "[1] \"\"\n",
       "\n",
       "[[2]]$warnings\n",
       "[1] \" 計算結果が NaN になりました \"\n",
       "\n",
       "[[2]]$messages\n",
       "character(0)\n",
       "\n",
       "\n",
       "[[3]]\n",
       "[[3]]$result\n",
       "[1] -Inf\n",
       "\n",
       "[[3]]$output\n",
       "[1] \"\"\n",
       "\n",
       "[[3]]$warnings\n",
       "character(0)\n",
       "\n",
       "[[3]]$messages\n",
       "character(0)\n",
       "\n",
       "\n",
       "[[4]]\n",
       "[[4]]$result\n",
       "[1] 0\n",
       "\n",
       "[[4]]$output\n",
       "[1] \"\"\n",
       "\n",
       "[[4]]$warnings\n",
       "character(0)\n",
       "\n",
       "[[4]]$messages\n",
       "character(0)\n",
       "\n",
       "\n",
       "[[5]]\n",
       "[[5]]$result\n",
       "[1] 0.6931472\n",
       "\n",
       "[[5]]$output\n",
       "[1] \"\"\n",
       "\n",
       "[[5]]$warnings\n",
       "character(0)\n",
       "\n",
       "[[5]]$messages\n",
       "character(0)\n",
       "\n"
      ]
     },
     "metadata": {},
     "output_type": "display_data"
    }
   ],
   "source": [
    "# possibillyはsafelyのシンプル版で, quietlyはエラーを削除する\n",
    "x %>% map(possibly(log, NA_real_))\n",
    "x %>% map(quietly(log))"
   ]
  },
  {
   "cell_type": "markdown",
   "metadata": {},
   "source": [
    "###  Mapping over Multiple Arguments"
   ]
  },
  {
   "cell_type": "code",
   "execution_count": 38,
   "metadata": {
    "collapsed": false
   },
   "outputs": [
    {
     "data": {
      "text/html": [
       "<ol class=list-inline>\n",
       "\t<li>5.1</li>\n",
       "\t<li>4.9</li>\n",
       "\t<li>4.7</li>\n",
       "\t<li>4.6</li>\n",
       "\t<li>5</li>\n",
       "\t<li>5.4</li>\n",
       "\t<li>4.6</li>\n",
       "\t<li>5</li>\n",
       "\t<li>4.4</li>\n",
       "\t<li>4.9</li>\n",
       "\t<li>5.4</li>\n",
       "\t<li>4.8</li>\n",
       "\t<li>4.8</li>\n",
       "\t<li>4.3</li>\n",
       "\t<li>5.8</li>\n",
       "\t<li>5.7</li>\n",
       "\t<li>5.4</li>\n",
       "\t<li>5.1</li>\n",
       "\t<li>5.7</li>\n",
       "\t<li>5.1</li>\n",
       "\t<li>5.4</li>\n",
       "\t<li>5.1</li>\n",
       "\t<li>4.6</li>\n",
       "\t<li>5.1</li>\n",
       "\t<li>4.8</li>\n",
       "\t<li>5</li>\n",
       "\t<li>5</li>\n",
       "\t<li>5.2</li>\n",
       "\t<li>5.2</li>\n",
       "\t<li>4.7</li>\n",
       "\t<li>4.8</li>\n",
       "\t<li>5.4</li>\n",
       "\t<li>5.2</li>\n",
       "\t<li>5.5</li>\n",
       "\t<li>4.9</li>\n",
       "\t<li>5</li>\n",
       "\t<li>5.5</li>\n",
       "\t<li>4.9</li>\n",
       "\t<li>4.4</li>\n",
       "\t<li>5.1</li>\n",
       "\t<li>5</li>\n",
       "\t<li>4.5</li>\n",
       "\t<li>4.4</li>\n",
       "\t<li>5</li>\n",
       "\t<li>5.1</li>\n",
       "\t<li>4.8</li>\n",
       "\t<li>5.1</li>\n",
       "\t<li>4.6</li>\n",
       "\t<li>5.3</li>\n",
       "\t<li>5</li>\n",
       "\t<li>7</li>\n",
       "\t<li>6.4</li>\n",
       "\t<li>6.9</li>\n",
       "\t<li>5.5</li>\n",
       "\t<li>6.5</li>\n",
       "\t<li>5.7</li>\n",
       "\t<li>6.3</li>\n",
       "\t<li>4.9</li>\n",
       "\t<li>6.6</li>\n",
       "\t<li>5.2</li>\n",
       "\t<li>5</li>\n",
       "\t<li>5.9</li>\n",
       "\t<li>6</li>\n",
       "\t<li>6.1</li>\n",
       "\t<li>5.6</li>\n",
       "\t<li>6.7</li>\n",
       "\t<li>5.6</li>\n",
       "\t<li>5.8</li>\n",
       "\t<li>6.2</li>\n",
       "\t<li>5.6</li>\n",
       "\t<li>5.9</li>\n",
       "\t<li>6.1</li>\n",
       "\t<li>6.3</li>\n",
       "\t<li>6.1</li>\n",
       "\t<li>6.4</li>\n",
       "\t<li>6.6</li>\n",
       "\t<li>6.8</li>\n",
       "\t<li>6.7</li>\n",
       "\t<li>6</li>\n",
       "\t<li>5.7</li>\n",
       "\t<li>5.5</li>\n",
       "\t<li>5.5</li>\n",
       "\t<li>5.8</li>\n",
       "\t<li>6</li>\n",
       "\t<li>5.4</li>\n",
       "\t<li>6</li>\n",
       "\t<li>6.7</li>\n",
       "\t<li>6.3</li>\n",
       "\t<li>5.6</li>\n",
       "\t<li>5.5</li>\n",
       "\t<li>5.5</li>\n",
       "\t<li>6.1</li>\n",
       "\t<li>5.8</li>\n",
       "\t<li>5</li>\n",
       "\t<li>5.6</li>\n",
       "\t<li>5.7</li>\n",
       "\t<li>5.7</li>\n",
       "\t<li>6.2</li>\n",
       "\t<li>5.1</li>\n",
       "\t<li>5.7</li>\n",
       "\t<li>6.3</li>\n",
       "\t<li>5.8</li>\n",
       "\t<li>7.1</li>\n",
       "\t<li>6.3</li>\n",
       "\t<li>6.5</li>\n",
       "\t<li>7.6</li>\n",
       "\t<li>4.9</li>\n",
       "\t<li>7.3</li>\n",
       "\t<li>6.7</li>\n",
       "\t<li>7.2</li>\n",
       "\t<li>6.5</li>\n",
       "\t<li>6.4</li>\n",
       "\t<li>6.8</li>\n",
       "\t<li>5.7</li>\n",
       "\t<li>5.8</li>\n",
       "\t<li>6.4</li>\n",
       "\t<li>6.5</li>\n",
       "\t<li>7.7</li>\n",
       "\t<li>7.7</li>\n",
       "\t<li>6</li>\n",
       "\t<li>6.9</li>\n",
       "\t<li>5.6</li>\n",
       "\t<li>7.7</li>\n",
       "\t<li>6.3</li>\n",
       "\t<li>6.7</li>\n",
       "\t<li>7.2</li>\n",
       "\t<li>6.2</li>\n",
       "\t<li>6.1</li>\n",
       "\t<li>6.4</li>\n",
       "\t<li>7.2</li>\n",
       "\t<li>7.4</li>\n",
       "\t<li>7.9</li>\n",
       "\t<li>6.4</li>\n",
       "\t<li>6.3</li>\n",
       "\t<li>6.1</li>\n",
       "\t<li>7.7</li>\n",
       "\t<li>6.3</li>\n",
       "\t<li>6.4</li>\n",
       "\t<li>6</li>\n",
       "\t<li>6.9</li>\n",
       "\t<li>6.7</li>\n",
       "\t<li>6.9</li>\n",
       "\t<li>5.8</li>\n",
       "\t<li>6.8</li>\n",
       "\t<li>6.7</li>\n",
       "\t<li>6.7</li>\n",
       "\t<li>6.3</li>\n",
       "\t<li>6.5</li>\n",
       "\t<li>6.2</li>\n",
       "\t<li>5.9</li>\n",
       "</ol>\n"
      ],
      "text/latex": [
       "\\begin{enumerate*}\n",
       "\\item 5.1\n",
       "\\item 4.9\n",
       "\\item 4.7\n",
       "\\item 4.6\n",
       "\\item 5\n",
       "\\item 5.4\n",
       "\\item 4.6\n",
       "\\item 5\n",
       "\\item 4.4\n",
       "\\item 4.9\n",
       "\\item 5.4\n",
       "\\item 4.8\n",
       "\\item 4.8\n",
       "\\item 4.3\n",
       "\\item 5.8\n",
       "\\item 5.7\n",
       "\\item 5.4\n",
       "\\item 5.1\n",
       "\\item 5.7\n",
       "\\item 5.1\n",
       "\\item 5.4\n",
       "\\item 5.1\n",
       "\\item 4.6\n",
       "\\item 5.1\n",
       "\\item 4.8\n",
       "\\item 5\n",
       "\\item 5\n",
       "\\item 5.2\n",
       "\\item 5.2\n",
       "\\item 4.7\n",
       "\\item 4.8\n",
       "\\item 5.4\n",
       "\\item 5.2\n",
       "\\item 5.5\n",
       "\\item 4.9\n",
       "\\item 5\n",
       "\\item 5.5\n",
       "\\item 4.9\n",
       "\\item 4.4\n",
       "\\item 5.1\n",
       "\\item 5\n",
       "\\item 4.5\n",
       "\\item 4.4\n",
       "\\item 5\n",
       "\\item 5.1\n",
       "\\item 4.8\n",
       "\\item 5.1\n",
       "\\item 4.6\n",
       "\\item 5.3\n",
       "\\item 5\n",
       "\\item 7\n",
       "\\item 6.4\n",
       "\\item 6.9\n",
       "\\item 5.5\n",
       "\\item 6.5\n",
       "\\item 5.7\n",
       "\\item 6.3\n",
       "\\item 4.9\n",
       "\\item 6.6\n",
       "\\item 5.2\n",
       "\\item 5\n",
       "\\item 5.9\n",
       "\\item 6\n",
       "\\item 6.1\n",
       "\\item 5.6\n",
       "\\item 6.7\n",
       "\\item 5.6\n",
       "\\item 5.8\n",
       "\\item 6.2\n",
       "\\item 5.6\n",
       "\\item 5.9\n",
       "\\item 6.1\n",
       "\\item 6.3\n",
       "\\item 6.1\n",
       "\\item 6.4\n",
       "\\item 6.6\n",
       "\\item 6.8\n",
       "\\item 6.7\n",
       "\\item 6\n",
       "\\item 5.7\n",
       "\\item 5.5\n",
       "\\item 5.5\n",
       "\\item 5.8\n",
       "\\item 6\n",
       "\\item 5.4\n",
       "\\item 6\n",
       "\\item 6.7\n",
       "\\item 6.3\n",
       "\\item 5.6\n",
       "\\item 5.5\n",
       "\\item 5.5\n",
       "\\item 6.1\n",
       "\\item 5.8\n",
       "\\item 5\n",
       "\\item 5.6\n",
       "\\item 5.7\n",
       "\\item 5.7\n",
       "\\item 6.2\n",
       "\\item 5.1\n",
       "\\item 5.7\n",
       "\\item 6.3\n",
       "\\item 5.8\n",
       "\\item 7.1\n",
       "\\item 6.3\n",
       "\\item 6.5\n",
       "\\item 7.6\n",
       "\\item 4.9\n",
       "\\item 7.3\n",
       "\\item 6.7\n",
       "\\item 7.2\n",
       "\\item 6.5\n",
       "\\item 6.4\n",
       "\\item 6.8\n",
       "\\item 5.7\n",
       "\\item 5.8\n",
       "\\item 6.4\n",
       "\\item 6.5\n",
       "\\item 7.7\n",
       "\\item 7.7\n",
       "\\item 6\n",
       "\\item 6.9\n",
       "\\item 5.6\n",
       "\\item 7.7\n",
       "\\item 6.3\n",
       "\\item 6.7\n",
       "\\item 7.2\n",
       "\\item 6.2\n",
       "\\item 6.1\n",
       "\\item 6.4\n",
       "\\item 7.2\n",
       "\\item 7.4\n",
       "\\item 7.9\n",
       "\\item 6.4\n",
       "\\item 6.3\n",
       "\\item 6.1\n",
       "\\item 7.7\n",
       "\\item 6.3\n",
       "\\item 6.4\n",
       "\\item 6\n",
       "\\item 6.9\n",
       "\\item 6.7\n",
       "\\item 6.9\n",
       "\\item 5.8\n",
       "\\item 6.8\n",
       "\\item 6.7\n",
       "\\item 6.7\n",
       "\\item 6.3\n",
       "\\item 6.5\n",
       "\\item 6.2\n",
       "\\item 5.9\n",
       "\\end{enumerate*}\n"
      ],
      "text/markdown": [
       "1. 5.1\n",
       "2. 4.9\n",
       "3. 4.7\n",
       "4. 4.6\n",
       "5. 5\n",
       "6. 5.4\n",
       "7. 4.6\n",
       "8. 5\n",
       "9. 4.4\n",
       "10. 4.9\n",
       "11. 5.4\n",
       "12. 4.8\n",
       "13. 4.8\n",
       "14. 4.3\n",
       "15. 5.8\n",
       "16. 5.7\n",
       "17. 5.4\n",
       "18. 5.1\n",
       "19. 5.7\n",
       "20. 5.1\n",
       "21. 5.4\n",
       "22. 5.1\n",
       "23. 4.6\n",
       "24. 5.1\n",
       "25. 4.8\n",
       "26. 5\n",
       "27. 5\n",
       "28. 5.2\n",
       "29. 5.2\n",
       "30. 4.7\n",
       "31. 4.8\n",
       "32. 5.4\n",
       "33. 5.2\n",
       "34. 5.5\n",
       "35. 4.9\n",
       "36. 5\n",
       "37. 5.5\n",
       "38. 4.9\n",
       "39. 4.4\n",
       "40. 5.1\n",
       "41. 5\n",
       "42. 4.5\n",
       "43. 4.4\n",
       "44. 5\n",
       "45. 5.1\n",
       "46. 4.8\n",
       "47. 5.1\n",
       "48. 4.6\n",
       "49. 5.3\n",
       "50. 5\n",
       "51. 7\n",
       "52. 6.4\n",
       "53. 6.9\n",
       "54. 5.5\n",
       "55. 6.5\n",
       "56. 5.7\n",
       "57. 6.3\n",
       "58. 4.9\n",
       "59. 6.6\n",
       "60. 5.2\n",
       "61. 5\n",
       "62. 5.9\n",
       "63. 6\n",
       "64. 6.1\n",
       "65. 5.6\n",
       "66. 6.7\n",
       "67. 5.6\n",
       "68. 5.8\n",
       "69. 6.2\n",
       "70. 5.6\n",
       "71. 5.9\n",
       "72. 6.1\n",
       "73. 6.3\n",
       "74. 6.1\n",
       "75. 6.4\n",
       "76. 6.6\n",
       "77. 6.8\n",
       "78. 6.7\n",
       "79. 6\n",
       "80. 5.7\n",
       "81. 5.5\n",
       "82. 5.5\n",
       "83. 5.8\n",
       "84. 6\n",
       "85. 5.4\n",
       "86. 6\n",
       "87. 6.7\n",
       "88. 6.3\n",
       "89. 5.6\n",
       "90. 5.5\n",
       "91. 5.5\n",
       "92. 6.1\n",
       "93. 5.8\n",
       "94. 5\n",
       "95. 5.6\n",
       "96. 5.7\n",
       "97. 5.7\n",
       "98. 6.2\n",
       "99. 5.1\n",
       "100. 5.7\n",
       "101. 6.3\n",
       "102. 5.8\n",
       "103. 7.1\n",
       "104. 6.3\n",
       "105. 6.5\n",
       "106. 7.6\n",
       "107. 4.9\n",
       "108. 7.3\n",
       "109. 6.7\n",
       "110. 7.2\n",
       "111. 6.5\n",
       "112. 6.4\n",
       "113. 6.8\n",
       "114. 5.7\n",
       "115. 5.8\n",
       "116. 6.4\n",
       "117. 6.5\n",
       "118. 7.7\n",
       "119. 7.7\n",
       "120. 6\n",
       "121. 6.9\n",
       "122. 5.6\n",
       "123. 7.7\n",
       "124. 6.3\n",
       "125. 6.7\n",
       "126. 7.2\n",
       "127. 6.2\n",
       "128. 6.1\n",
       "129. 6.4\n",
       "130. 7.2\n",
       "131. 7.4\n",
       "132. 7.9\n",
       "133. 6.4\n",
       "134. 6.3\n",
       "135. 6.1\n",
       "136. 7.7\n",
       "137. 6.3\n",
       "138. 6.4\n",
       "139. 6\n",
       "140. 6.9\n",
       "141. 6.7\n",
       "142. 6.9\n",
       "143. 5.8\n",
       "144. 6.8\n",
       "145. 6.7\n",
       "146. 6.7\n",
       "147. 6.3\n",
       "148. 6.5\n",
       "149. 6.2\n",
       "150. 5.9\n",
       "\n",
       "\n"
      ],
      "text/plain": [
       "  [1] 5.1 4.9 4.7 4.6 5.0 5.4 4.6 5.0 4.4 4.9 5.4 4.8 4.8 4.3 5.8 5.7 5.4 5.1\n",
       " [19] 5.7 5.1 5.4 5.1 4.6 5.1 4.8 5.0 5.0 5.2 5.2 4.7 4.8 5.4 5.2 5.5 4.9 5.0\n",
       " [37] 5.5 4.9 4.4 5.1 5.0 4.5 4.4 5.0 5.1 4.8 5.1 4.6 5.3 5.0 7.0 6.4 6.9 5.5\n",
       " [55] 6.5 5.7 6.3 4.9 6.6 5.2 5.0 5.9 6.0 6.1 5.6 6.7 5.6 5.8 6.2 5.6 5.9 6.1\n",
       " [73] 6.3 6.1 6.4 6.6 6.8 6.7 6.0 5.7 5.5 5.5 5.8 6.0 5.4 6.0 6.7 6.3 5.6 5.5\n",
       " [91] 5.5 6.1 5.8 5.0 5.6 5.7 5.7 6.2 5.1 5.7 6.3 5.8 7.1 6.3 6.5 7.6 4.9 7.3\n",
       "[109] 6.7 7.2 6.5 6.4 6.8 5.7 5.8 6.4 6.5 7.7 7.7 6.0 6.9 5.6 7.7 6.3 6.7 7.2\n",
       "[127] 6.2 6.1 6.4 7.2 7.4 7.9 6.4 6.3 6.1 7.7 6.3 6.4 6.0 6.9 6.7 6.9 5.8 6.8\n",
       "[145] 6.7 6.7 6.3 6.5 6.2 5.9"
      ]
     },
     "metadata": {},
     "output_type": "display_data"
    }
   ],
   "source": [
    "Filter(is.numeric, iris) %>% pmap(max) %>% flatten_dbl"
   ]
  },
  {
   "cell_type": "markdown",
   "metadata": {},
   "source": [
    "### Invoking Different Functions"
   ]
  },
  {
   "cell_type": "code",
   "execution_count": 39,
   "metadata": {
    "collapsed": false
   },
   "outputs": [
    {
     "name": "stdout",
     "output_type": "stream",
     "text": [
      "List of 3\n",
      " $ : num [1:5] 0.7991 0.8913 -0.6126 -0.0797 -0.061\n",
      " $ : num [1:5] 2.23 -1.87 -3.57 -3.6 3.79\n",
      " $ : int [1:5] 9 8 7 8 12\n"
     ]
    }
   ],
   "source": [
    "f <-  c(\"runif\", \"rnorm\", \"rpois\")\n",
    "param <- list (\n",
    "    list (min = -1, max = 1), \n",
    "    list (sd = 5), \n",
    "    list (lambda = 10)\n",
    ")\n",
    "invoke_map(f, param, n = 5) %>% str"
   ]
  },
  {
   "cell_type": "code",
   "execution_count": 42,
   "metadata": {
    "collapsed": false
   },
   "outputs": [
    {
     "name": "stdout",
     "output_type": "stream",
     "text": [
      "# A tibble: 3 x 3\n",
      "      f     params        sim\n",
      "  <chr>     <list>     <list>\n",
      "1 runif <list [2]> <dbl [10]>\n",
      "2 rnorm <list [1]> <dbl [10]>\n",
      "3 rpois <list [1]> <int [10]>\n"
     ]
    }
   ],
   "source": [
    "sim <- tribble (\n",
    "    ~f, ~params, \n",
    "    \"runif\", list(min=-1,max=1), \n",
    "    \"rnorm\", list(sd=5), \n",
    "    \"rpois\", list(lambda=10)\n",
    ")\n",
    "sim %>%\n",
    "    mutate (sim = invoke_map(f, params, n = 10)) %>%\n",
    "    print()"
   ]
  },
  {
   "cell_type": "markdown",
   "metadata": {},
   "source": [
    "### Walk\n",
    "\n",
    "副作用がないmapです. プロットを保存する際などに便利です. "
   ]
  },
  {
   "cell_type": "markdown",
   "metadata": {},
   "source": [
    "### Other Paterns of For Loop"
   ]
  },
  {
   "cell_type": "code",
   "execution_count": 47,
   "metadata": {
    "collapsed": false
   },
   "outputs": [
    {
     "data": {
      "text/html": [
       "<table>\n",
       "<thead><tr><th scope=col>Species</th></tr></thead>\n",
       "<tbody>\n",
       "\t<tr><td>setosa</td></tr>\n",
       "\t<tr><td>setosa</td></tr>\n",
       "\t<tr><td>setosa</td></tr>\n",
       "\t<tr><td>setosa</td></tr>\n",
       "\t<tr><td>setosa</td></tr>\n",
       "\t<tr><td>setosa</td></tr>\n",
       "</tbody>\n",
       "</table>\n"
      ],
      "text/latex": [
       "\\begin{tabular}{r|l}\n",
       " Species\\\\\n",
       "\\hline\n",
       "\t setosa\\\\\n",
       "\t setosa\\\\\n",
       "\t setosa\\\\\n",
       "\t setosa\\\\\n",
       "\t setosa\\\\\n",
       "\t setosa\\\\\n",
       "\\end{tabular}\n"
      ],
      "text/markdown": [
       "\n",
       "Species | \n",
       "|---|---|---|---|---|---|\n",
       "| setosa | \n",
       "| setosa | \n",
       "| setosa | \n",
       "| setosa | \n",
       "| setosa | \n",
       "| setosa | \n",
       "\n",
       "\n"
      ],
      "text/plain": [
       "  Species\n",
       "1 setosa \n",
       "2 setosa \n",
       "3 setosa \n",
       "4 setosa \n",
       "5 setosa \n",
       "6 setosa "
      ]
     },
     "metadata": {},
     "output_type": "display_data"
    }
   ],
   "source": [
    "iris %>% \n",
    "    keep(is.factor) %>%\n",
    "    head()"
   ]
  },
  {
   "cell_type": "code",
   "execution_count": 48,
   "metadata": {
    "collapsed": false
   },
   "outputs": [
    {
     "data": {
      "text/html": [
       "<table>\n",
       "<thead><tr><th scope=col>Sepal.Length</th><th scope=col>Sepal.Width</th><th scope=col>Petal.Length</th><th scope=col>Petal.Width</th></tr></thead>\n",
       "<tbody>\n",
       "\t<tr><td>5.1</td><td>3.5</td><td>1.4</td><td>0.2</td></tr>\n",
       "\t<tr><td>4.9</td><td>3.0</td><td>1.4</td><td>0.2</td></tr>\n",
       "\t<tr><td>4.7</td><td>3.2</td><td>1.3</td><td>0.2</td></tr>\n",
       "\t<tr><td>4.6</td><td>3.1</td><td>1.5</td><td>0.2</td></tr>\n",
       "\t<tr><td>5.0</td><td>3.6</td><td>1.4</td><td>0.2</td></tr>\n",
       "\t<tr><td>5.4</td><td>3.9</td><td>1.7</td><td>0.4</td></tr>\n",
       "</tbody>\n",
       "</table>\n"
      ],
      "text/latex": [
       "\\begin{tabular}{r|llll}\n",
       " Sepal.Length & Sepal.Width & Petal.Length & Petal.Width\\\\\n",
       "\\hline\n",
       "\t 5.1 & 3.5 & 1.4 & 0.2\\\\\n",
       "\t 4.9 & 3.0 & 1.4 & 0.2\\\\\n",
       "\t 4.7 & 3.2 & 1.3 & 0.2\\\\\n",
       "\t 4.6 & 3.1 & 1.5 & 0.2\\\\\n",
       "\t 5.0 & 3.6 & 1.4 & 0.2\\\\\n",
       "\t 5.4 & 3.9 & 1.7 & 0.4\\\\\n",
       "\\end{tabular}\n"
      ],
      "text/markdown": [
       "\n",
       "Sepal.Length | Sepal.Width | Petal.Length | Petal.Width | \n",
       "|---|---|---|---|---|---|\n",
       "| 5.1 | 3.5 | 1.4 | 0.2 | \n",
       "| 4.9 | 3.0 | 1.4 | 0.2 | \n",
       "| 4.7 | 3.2 | 1.3 | 0.2 | \n",
       "| 4.6 | 3.1 | 1.5 | 0.2 | \n",
       "| 5.0 | 3.6 | 1.4 | 0.2 | \n",
       "| 5.4 | 3.9 | 1.7 | 0.4 | \n",
       "\n",
       "\n"
      ],
      "text/plain": [
       "  Sepal.Length Sepal.Width Petal.Length Petal.Width\n",
       "1 5.1          3.5         1.4          0.2        \n",
       "2 4.9          3.0         1.4          0.2        \n",
       "3 4.7          3.2         1.3          0.2        \n",
       "4 4.6          3.1         1.5          0.2        \n",
       "5 5.0          3.6         1.4          0.2        \n",
       "6 5.4          3.9         1.7          0.4        "
      ]
     },
     "metadata": {},
     "output_type": "display_data"
    }
   ],
   "source": [
    "iris %>%\n",
    "    discard(is.factor) %>%\n",
    "    head()"
   ]
  },
  {
   "cell_type": "code",
   "execution_count": 49,
   "metadata": {
    "collapsed": false
   },
   "outputs": [
    {
     "data": {
      "text/html": [
       "TRUE"
      ],
      "text/latex": [
       "TRUE"
      ],
      "text/markdown": [
       "TRUE"
      ],
      "text/plain": [
       "[1] TRUE"
      ]
     },
     "metadata": {},
     "output_type": "display_data"
    }
   ],
   "source": [
    "iris %>%\n",
    "    some(is.factor)"
   ]
  },
  {
   "cell_type": "code",
   "execution_count": 50,
   "metadata": {
    "collapsed": false
   },
   "outputs": [
    {
     "data": {
      "text/html": [
       "FALSE"
      ],
      "text/latex": [
       "FALSE"
      ],
      "text/markdown": [
       "FALSE"
      ],
      "text/plain": [
       "[1] FALSE"
      ]
     },
     "metadata": {},
     "output_type": "display_data"
    }
   ],
   "source": [
    "iris %>%\n",
    "    every(is.numeric)"
   ]
  },
  {
   "cell_type": "code",
   "execution_count": 53,
   "metadata": {
    "collapsed": false
   },
   "outputs": [
    {
     "data": {
      "text/html": [
       "<ol class=list-inline>\n",
       "\t<li>setosa</li>\n",
       "\t<li>setosa</li>\n",
       "\t<li>setosa</li>\n",
       "\t<li>setosa</li>\n",
       "\t<li>setosa</li>\n",
       "\t<li>setosa</li>\n",
       "</ol>\n"
      ],
      "text/latex": [
       "\\begin{enumerate*}\n",
       "\\item setosa\n",
       "\\item setosa\n",
       "\\item setosa\n",
       "\\item setosa\n",
       "\\item setosa\n",
       "\\item setosa\n",
       "\\end{enumerate*}\n"
      ],
      "text/markdown": [
       "1. setosa\n",
       "2. setosa\n",
       "3. setosa\n",
       "4. setosa\n",
       "5. setosa\n",
       "6. setosa\n",
       "\n",
       "\n"
      ],
      "text/plain": [
       "[1] setosa setosa setosa setosa setosa setosa\n",
       "Levels: setosa versicolor virginica"
      ]
     },
     "metadata": {},
     "output_type": "display_data"
    },
    {
     "data": {
      "text/html": [
       "5"
      ],
      "text/latex": [
       "5"
      ],
      "text/markdown": [
       "5"
      ],
      "text/plain": [
       "[1] 5"
      ]
     },
     "metadata": {},
     "output_type": "display_data"
    }
   ],
   "source": [
    "# detectは条件を満たす最初の値, \n",
    "# detect_indexはその要素位置\n",
    "iris %>% detect( ~ is.factor(.)) %>% head()\n",
    "iris %>% detect_index( ~ is.factor(.))"
   ]
  },
  {
   "cell_type": "code",
   "execution_count": null,
   "metadata": {
    "collapsed": true
   },
   "outputs": [],
   "source": []
  }
 ],
 "metadata": {
  "kernelspec": {
   "display_name": "R",
   "language": "R",
   "name": "ir"
  },
  "language_info": {
   "codemirror_mode": "r",
   "file_extension": ".r",
   "mimetype": "text/x-r-source",
   "name": "R",
   "pygments_lexer": "r",
   "version": "3.4.0"
  }
 },
 "nbformat": 4,
 "nbformat_minor": 2
}
