{
 "cells": [
  {
   "cell_type": "markdown",
   "metadata": {},
   "source": [
    "## Vectors"
   ]
  },
  {
   "cell_type": "code",
   "execution_count": 1,
   "metadata": {
    "collapsed": false
   },
   "outputs": [
    {
     "data": {
      "text/plain": [
       "[1] as.Date.character as.Date.date      as.Date.dates     as.Date.default  \n",
       "[5] as.Date.factor    as.Date.numeric   as.Date.POSIXct   as.Date.POSIXlt  \n",
       "see '?methods' for accessing help and source code"
      ]
     },
     "metadata": {},
     "output_type": "display_data"
    }
   ],
   "source": [
    "methods(\"as.Date\")\n"
   ]
  },
  {
   "cell_type": "code",
   "execution_count": 2,
   "metadata": {
    "collapsed": false
   },
   "outputs": [
    {
     "data": {
      "text/html": [
       "<pre class=language-r><code>function (x, ...) \n",
       "{\n",
       "<span style=white-space:pre-wrap>    if (inherits(x, \"Date\")) </span>\n",
       "<span style=white-space:pre-wrap>        return(x)</span>\n",
       "<span style=white-space:pre-wrap>    if (is.logical(x) &amp;&amp; all(is.na(x))) </span>\n",
       "<span style=white-space:pre-wrap>        return(structure(as.numeric(x), class = \"Date\"))</span>\n",
       "<span style=white-space:pre-wrap>    stop(gettextf(\"do not know how to convert '%s' to class %s\", </span>\n",
       "<span style=white-space:pre-wrap>        deparse(substitute(x)), dQuote(\"Date\")), domain = NA)</span>\n",
       "}</code></pre>"
      ],
      "text/latex": [
       "\\begin{minted}{r}\n",
       "function (x, ...) \n",
       "\\{\n",
       "    if (inherits(x, \"Date\")) \n",
       "        return(x)\n",
       "    if (is.logical(x) \\&\\& all(is.na(x))) \n",
       "        return(structure(as.numeric(x), class = \"Date\"))\n",
       "    stop(gettextf(\"do not know how to convert '\\%s' to class \\%s\", \n",
       "        deparse(substitute(x)), dQuote(\"Date\")), domain = NA)\n",
       "\\}\n",
       "\\end{minted}"
      ],
      "text/markdown": [
       "```r\n",
       "function (x, ...) \n",
       "{\n",
       "    if (inherits(x, \"Date\")) \n",
       "        return(x)\n",
       "    if (is.logical(x) && all(is.na(x))) \n",
       "        return(structure(as.numeric(x), class = \"Date\"))\n",
       "    stop(gettextf(\"do not know how to convert '%s' to class %s\", \n",
       "        deparse(substitute(x)), dQuote(\"Date\")), domain = NA)\n",
       "}\n",
       "```"
      ],
      "text/plain": [
       "function (x, ...) \n",
       "{\n",
       "    if (inherits(x, \"Date\")) \n",
       "        return(x)\n",
       "    if (is.logical(x) && all(is.na(x))) \n",
       "        return(structure(as.numeric(x), class = \"Date\"))\n",
       "    stop(gettextf(\"do not know how to convert '%s' to class %s\", \n",
       "        deparse(substitute(x)), dQuote(\"Date\")), domain = NA)\n",
       "}\n",
       "<bytecode: 0x00000000189dc200>\n",
       "<environment: namespace:base>"
      ]
     },
     "metadata": {},
     "output_type": "display_data"
    }
   ],
   "source": [
    "getS3method(\"as.Date\", \"default\")"
   ]
  },
  {
   "cell_type": "code",
   "execution_count": 3,
   "metadata": {
    "collapsed": false
   },
   "outputs": [
    {
     "data": {
      "text/html": [
       "<pre class=language-r><code>function (x, origin, ...) \n",
       "{\n",
       "<span style=white-space:pre-wrap>    if (missing(origin)) </span>\n",
       "<span style=white-space:pre-wrap>        stop(\"'origin' must be supplied\")</span>\n",
       "<span style=white-space:pre-wrap>    as.Date(origin, ...) + x</span>\n",
       "}</code></pre>"
      ],
      "text/latex": [
       "\\begin{minted}{r}\n",
       "function (x, origin, ...) \n",
       "\\{\n",
       "    if (missing(origin)) \n",
       "        stop(\"'origin' must be supplied\")\n",
       "    as.Date(origin, ...) + x\n",
       "\\}\n",
       "\\end{minted}"
      ],
      "text/markdown": [
       "```r\n",
       "function (x, origin, ...) \n",
       "{\n",
       "    if (missing(origin)) \n",
       "        stop(\"'origin' must be supplied\")\n",
       "    as.Date(origin, ...) + x\n",
       "}\n",
       "```"
      ],
      "text/plain": [
       "function (x, origin, ...) \n",
       "{\n",
       "    if (missing(origin)) \n",
       "        stop(\"'origin' must be supplied\")\n",
       "    as.Date(origin, ...) + x\n",
       "}\n",
       "<bytecode: 0x00000000189decc0>\n",
       "<environment: namespace:base>"
      ]
     },
     "metadata": {},
     "output_type": "display_data"
    }
   ],
   "source": [
    "getS3method(\"as.Date\", \"numeric\")"
   ]
  },
  {
   "cell_type": "code",
   "execution_count": 13,
   "metadata": {
    "collapsed": false
   },
   "outputs": [
    {
     "data": {
      "text/html": [
       "'integer'"
      ],
      "text/latex": [
       "'integer'"
      ],
      "text/markdown": [
       "'integer'"
      ],
      "text/plain": [
       "[1] \"integer\""
      ]
     },
     "metadata": {},
     "output_type": "display_data"
    },
    {
     "data": {
      "text/html": [
       "<dl>\n",
       "\t<dt>$levels</dt>\n",
       "\t\t<dd><ol class=list-inline>\n",
       "\t<li>'a'</li>\n",
       "\t<li>'b'</li>\n",
       "\t<li>'c'</li>\n",
       "\t<li>'d'</li>\n",
       "\t<li>'e'</li>\n",
       "\t<li>'f'</li>\n",
       "\t<li>'g'</li>\n",
       "\t<li>'h'</li>\n",
       "\t<li>'i'</li>\n",
       "\t<li>'j'</li>\n",
       "\t<li>'k'</li>\n",
       "\t<li>'l'</li>\n",
       "\t<li>'m'</li>\n",
       "\t<li>'n'</li>\n",
       "\t<li>'o'</li>\n",
       "\t<li>'p'</li>\n",
       "\t<li>'q'</li>\n",
       "\t<li>'r'</li>\n",
       "\t<li>'s'</li>\n",
       "\t<li>'t'</li>\n",
       "\t<li>'u'</li>\n",
       "\t<li>'v'</li>\n",
       "\t<li>'w'</li>\n",
       "\t<li>'x'</li>\n",
       "\t<li>'y'</li>\n",
       "\t<li>'z'</li>\n",
       "</ol>\n",
       "</dd>\n",
       "\t<dt>$class</dt>\n",
       "\t\t<dd><ol class=list-inline>\n",
       "\t<li>'ordered'</li>\n",
       "\t<li>'factor'</li>\n",
       "</ol>\n",
       "</dd>\n",
       "</dl>\n"
      ],
      "text/latex": [
       "\\begin{description}\n",
       "\\item[\\$levels] \\begin{enumerate*}\n",
       "\\item 'a'\n",
       "\\item 'b'\n",
       "\\item 'c'\n",
       "\\item 'd'\n",
       "\\item 'e'\n",
       "\\item 'f'\n",
       "\\item 'g'\n",
       "\\item 'h'\n",
       "\\item 'i'\n",
       "\\item 'j'\n",
       "\\item 'k'\n",
       "\\item 'l'\n",
       "\\item 'm'\n",
       "\\item 'n'\n",
       "\\item 'o'\n",
       "\\item 'p'\n",
       "\\item 'q'\n",
       "\\item 'r'\n",
       "\\item 's'\n",
       "\\item 't'\n",
       "\\item 'u'\n",
       "\\item 'v'\n",
       "\\item 'w'\n",
       "\\item 'x'\n",
       "\\item 'y'\n",
       "\\item 'z'\n",
       "\\end{enumerate*}\n",
       "\n",
       "\\item[\\$class] \\begin{enumerate*}\n",
       "\\item 'ordered'\n",
       "\\item 'factor'\n",
       "\\end{enumerate*}\n",
       "\n",
       "\\end{description}\n"
      ],
      "text/markdown": [
       "$levels\n",
       ":   1. 'a'\n",
       "2. 'b'\n",
       "3. 'c'\n",
       "4. 'd'\n",
       "5. 'e'\n",
       "6. 'f'\n",
       "7. 'g'\n",
       "8. 'h'\n",
       "9. 'i'\n",
       "10. 'j'\n",
       "11. 'k'\n",
       "12. 'l'\n",
       "13. 'm'\n",
       "14. 'n'\n",
       "15. 'o'\n",
       "16. 'p'\n",
       "17. 'q'\n",
       "18. 'r'\n",
       "19. 's'\n",
       "20. 't'\n",
       "21. 'u'\n",
       "22. 'v'\n",
       "23. 'w'\n",
       "24. 'x'\n",
       "25. 'y'\n",
       "26. 'z'\n",
       "\n",
       "\n",
       "\n",
       "$class\n",
       ":   1. 'ordered'\n",
       "2. 'factor'\n",
       "\n",
       "\n",
       "\n",
       "\n",
       "\n"
      ],
      "text/plain": [
       "$levels\n",
       " [1] \"a\" \"b\" \"c\" \"d\" \"e\" \"f\" \"g\" \"h\" \"i\" \"j\" \"k\" \"l\" \"m\" \"n\" \"o\" \"p\" \"q\" \"r\" \"s\"\n",
       "[20] \"t\" \"u\" \"v\" \"w\" \"x\" \"y\" \"z\"\n",
       "\n",
       "$class\n",
       "[1] \"ordered\" \"factor\" \n"
      ]
     },
     "metadata": {},
     "output_type": "display_data"
    },
    {
     "data": {
      "text/html": [
       "<ol class=list-inline>\n",
       "\t<li>22</li>\n",
       "\t<li>10</li>\n",
       "\t<li>9</li>\n",
       "\t<li>23</li>\n",
       "\t<li>26</li>\n",
       "\t<li>1</li>\n",
       "\t<li>19</li>\n",
       "\t<li>6</li>\n",
       "\t<li>15</li>\n",
       "\t<li>3</li>\n",
       "\t<li>12</li>\n",
       "\t<li>24</li>\n",
       "\t<li>16</li>\n",
       "\t<li>14</li>\n",
       "\t<li>5</li>\n",
       "\t<li>4</li>\n",
       "\t<li>20</li>\n",
       "\t<li>25</li>\n",
       "\t<li>2</li>\n",
       "\t<li>21</li>\n",
       "\t<li>11</li>\n",
       "\t<li>13</li>\n",
       "\t<li>18</li>\n",
       "\t<li>7</li>\n",
       "\t<li>17</li>\n",
       "\t<li>8</li>\n",
       "</ol>\n"
      ],
      "text/latex": [
       "\\begin{enumerate*}\n",
       "\\item 22\n",
       "\\item 10\n",
       "\\item 9\n",
       "\\item 23\n",
       "\\item 26\n",
       "\\item 1\n",
       "\\item 19\n",
       "\\item 6\n",
       "\\item 15\n",
       "\\item 3\n",
       "\\item 12\n",
       "\\item 24\n",
       "\\item 16\n",
       "\\item 14\n",
       "\\item 5\n",
       "\\item 4\n",
       "\\item 20\n",
       "\\item 25\n",
       "\\item 2\n",
       "\\item 21\n",
       "\\item 11\n",
       "\\item 13\n",
       "\\item 18\n",
       "\\item 7\n",
       "\\item 17\n",
       "\\item 8\n",
       "\\end{enumerate*}\n"
      ],
      "text/markdown": [
       "1. 22\n",
       "2. 10\n",
       "3. 9\n",
       "4. 23\n",
       "5. 26\n",
       "6. 1\n",
       "7. 19\n",
       "8. 6\n",
       "9. 15\n",
       "10. 3\n",
       "11. 12\n",
       "12. 24\n",
       "13. 16\n",
       "14. 14\n",
       "15. 5\n",
       "16. 4\n",
       "17. 20\n",
       "18. 25\n",
       "19. 2\n",
       "20. 21\n",
       "21. 11\n",
       "22. 13\n",
       "23. 18\n",
       "24. 7\n",
       "25. 17\n",
       "26. 8\n",
       "\n",
       "\n"
      ],
      "text/plain": [
       " [1] 22 10  9 23 26  1 19  6 15  3 12 24 16 14  5  4 20 25  2 21 11 13 18  7 17\n",
       "[26]  8"
      ]
     },
     "metadata": {},
     "output_type": "display_data"
    },
    {
     "data": {
      "text/html": [
       "<ol class=list-inline>\n",
       "\t<li>v</li>\n",
       "\t<li>j</li>\n",
       "\t<li>i</li>\n",
       "\t<li>w</li>\n",
       "\t<li>z</li>\n",
       "\t<li>a</li>\n",
       "\t<li>s</li>\n",
       "\t<li>f</li>\n",
       "\t<li>o</li>\n",
       "\t<li>c</li>\n",
       "\t<li>l</li>\n",
       "\t<li>x</li>\n",
       "\t<li>p</li>\n",
       "\t<li>n</li>\n",
       "\t<li>e</li>\n",
       "\t<li>d</li>\n",
       "\t<li>t</li>\n",
       "\t<li>y</li>\n",
       "\t<li>b</li>\n",
       "\t<li>u</li>\n",
       "\t<li>k</li>\n",
       "\t<li>m</li>\n",
       "\t<li>r</li>\n",
       "\t<li>g</li>\n",
       "\t<li>q</li>\n",
       "\t<li>h</li>\n",
       "</ol>\n"
      ],
      "text/latex": [
       "\\begin{enumerate*}\n",
       "\\item v\n",
       "\\item j\n",
       "\\item i\n",
       "\\item w\n",
       "\\item z\n",
       "\\item a\n",
       "\\item s\n",
       "\\item f\n",
       "\\item o\n",
       "\\item c\n",
       "\\item l\n",
       "\\item x\n",
       "\\item p\n",
       "\\item n\n",
       "\\item e\n",
       "\\item d\n",
       "\\item t\n",
       "\\item y\n",
       "\\item b\n",
       "\\item u\n",
       "\\item k\n",
       "\\item m\n",
       "\\item r\n",
       "\\item g\n",
       "\\item q\n",
       "\\item h\n",
       "\\end{enumerate*}\n"
      ],
      "text/markdown": [
       "1. v\n",
       "2. j\n",
       "3. i\n",
       "4. w\n",
       "5. z\n",
       "6. a\n",
       "7. s\n",
       "8. f\n",
       "9. o\n",
       "10. c\n",
       "11. l\n",
       "12. x\n",
       "13. p\n",
       "14. n\n",
       "15. e\n",
       "16. d\n",
       "17. t\n",
       "18. y\n",
       "19. b\n",
       "20. u\n",
       "21. k\n",
       "22. m\n",
       "23. r\n",
       "24. g\n",
       "25. q\n",
       "26. h\n",
       "\n",
       "\n"
      ],
      "text/plain": [
       " [1] v j i w z a s f o c l x p n e d t y b u k m r g q h\n",
       "26 Levels: a < b < c < d < e < f < g < h < i < j < k < l < m < n < o < ... < z"
      ]
     },
     "metadata": {},
     "output_type": "display_data"
    }
   ],
   "source": [
    "x <- factor(sample(letters), ordered=TRUE)\n",
    "typeof(x) #integer\n",
    "attributes(x)\n",
    "as.integer(x)\n",
    "x"
   ]
  }
 ],
 "metadata": {
  "kernelspec": {
   "display_name": "R",
   "language": "R",
   "name": "ir"
  },
  "language_info": {
   "codemirror_mode": "r",
   "file_extension": ".r",
   "mimetype": "text/x-r-source",
   "name": "R",
   "pygments_lexer": "r",
   "version": "3.4.0"
  }
 },
 "nbformat": 4,
 "nbformat_minor": 2
}
